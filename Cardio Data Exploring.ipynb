{
 "cells": [
  {
   "cell_type": "code",
   "execution_count": 1,
   "id": "e65ecfe3",
   "metadata": {},
   "outputs": [],
   "source": [
    "import pandas as pd\n",
    "import numpy as np\n",
    "import matplotlib.pyplot as plt"
   ]
  },
  {
   "cell_type": "markdown",
   "id": "44dd0f95",
   "metadata": {},
   "source": [
    "### Cardiovascular Heart Disease Risk Factors<br>\n",
    "<p>Cardiovascular disease is the leading cause of death in the US. To better understand it's symptoms, causes, and risk factors we can take a look at the relationships and correlations in patient and population data. This data set has 70,000 patients data with demographic, observed, and reported data points to consider.</p>\n",
    "<p>Overview of our data set:</p>"
   ]
  },
  {
   "cell_type": "code",
   "execution_count": 3,
   "id": "7ff07569",
   "metadata": {},
   "outputs": [
    {
     "data": {
      "text/html": [
       "<div>\n",
       "<style scoped>\n",
       "    .dataframe tbody tr th:only-of-type {\n",
       "        vertical-align: middle;\n",
       "    }\n",
       "\n",
       "    .dataframe tbody tr th {\n",
       "        vertical-align: top;\n",
       "    }\n",
       "\n",
       "    .dataframe thead th {\n",
       "        text-align: right;\n",
       "    }\n",
       "</style>\n",
       "<table border=\"1\" class=\"dataframe\">\n",
       "  <thead>\n",
       "    <tr style=\"text-align: right;\">\n",
       "      <th></th>\n",
       "      <th>id</th>\n",
       "      <th>age</th>\n",
       "      <th>gender</th>\n",
       "      <th>height</th>\n",
       "      <th>weight</th>\n",
       "      <th>ap_hi</th>\n",
       "      <th>ap_lo</th>\n",
       "      <th>cholesterol</th>\n",
       "      <th>gluc</th>\n",
       "      <th>smoke</th>\n",
       "      <th>alco</th>\n",
       "      <th>active</th>\n",
       "      <th>cardio</th>\n",
       "    </tr>\n",
       "  </thead>\n",
       "  <tbody>\n",
       "    <tr>\n",
       "      <th>0</th>\n",
       "      <td>0</td>\n",
       "      <td>18393</td>\n",
       "      <td>2</td>\n",
       "      <td>168</td>\n",
       "      <td>62.0</td>\n",
       "      <td>110</td>\n",
       "      <td>80</td>\n",
       "      <td>1</td>\n",
       "      <td>1</td>\n",
       "      <td>0</td>\n",
       "      <td>0</td>\n",
       "      <td>1</td>\n",
       "      <td>0</td>\n",
       "    </tr>\n",
       "    <tr>\n",
       "      <th>1</th>\n",
       "      <td>1</td>\n",
       "      <td>20228</td>\n",
       "      <td>1</td>\n",
       "      <td>156</td>\n",
       "      <td>85.0</td>\n",
       "      <td>140</td>\n",
       "      <td>90</td>\n",
       "      <td>3</td>\n",
       "      <td>1</td>\n",
       "      <td>0</td>\n",
       "      <td>0</td>\n",
       "      <td>1</td>\n",
       "      <td>1</td>\n",
       "    </tr>\n",
       "    <tr>\n",
       "      <th>2</th>\n",
       "      <td>2</td>\n",
       "      <td>18857</td>\n",
       "      <td>1</td>\n",
       "      <td>165</td>\n",
       "      <td>64.0</td>\n",
       "      <td>130</td>\n",
       "      <td>70</td>\n",
       "      <td>3</td>\n",
       "      <td>1</td>\n",
       "      <td>0</td>\n",
       "      <td>0</td>\n",
       "      <td>0</td>\n",
       "      <td>1</td>\n",
       "    </tr>\n",
       "    <tr>\n",
       "      <th>3</th>\n",
       "      <td>3</td>\n",
       "      <td>17623</td>\n",
       "      <td>2</td>\n",
       "      <td>169</td>\n",
       "      <td>82.0</td>\n",
       "      <td>150</td>\n",
       "      <td>100</td>\n",
       "      <td>1</td>\n",
       "      <td>1</td>\n",
       "      <td>0</td>\n",
       "      <td>0</td>\n",
       "      <td>1</td>\n",
       "      <td>1</td>\n",
       "    </tr>\n",
       "    <tr>\n",
       "      <th>4</th>\n",
       "      <td>4</td>\n",
       "      <td>17474</td>\n",
       "      <td>1</td>\n",
       "      <td>156</td>\n",
       "      <td>56.0</td>\n",
       "      <td>100</td>\n",
       "      <td>60</td>\n",
       "      <td>1</td>\n",
       "      <td>1</td>\n",
       "      <td>0</td>\n",
       "      <td>0</td>\n",
       "      <td>0</td>\n",
       "      <td>0</td>\n",
       "    </tr>\n",
       "  </tbody>\n",
       "</table>\n",
       "</div>"
      ],
      "text/plain": [
       "   id    age  gender  height  weight  ap_hi  ap_lo  cholesterol  gluc  smoke  \\\n",
       "0   0  18393       2     168    62.0    110     80            1     1      0   \n",
       "1   1  20228       1     156    85.0    140     90            3     1      0   \n",
       "2   2  18857       1     165    64.0    130     70            3     1      0   \n",
       "3   3  17623       2     169    82.0    150    100            1     1      0   \n",
       "4   4  17474       1     156    56.0    100     60            1     1      0   \n",
       "\n",
       "   alco  active  cardio  \n",
       "0     0       1       0  \n",
       "1     0       1       1  \n",
       "2     0       0       1  \n",
       "3     0       1       1  \n",
       "4     0       0       0  "
      ]
     },
     "execution_count": 3,
     "metadata": {},
     "output_type": "execute_result"
    }
   ],
   "source": [
    "cardio_data = pd.read_csv('cardio_train.csv', sep = ';')\n",
    "cardio_data.head()"
   ]
  },
  {
   "cell_type": "markdown",
   "id": "c225acf7",
   "metadata": {},
   "source": [
    "<p>A look at the dataframe keys and data types:</p>"
   ]
  },
  {
   "cell_type": "code",
   "execution_count": 4,
   "id": "274a54ea",
   "metadata": {},
   "outputs": [
    {
     "name": "stdout",
     "output_type": "stream",
     "text": [
      "<class 'pandas.core.frame.DataFrame'>\n",
      "RangeIndex: 70000 entries, 0 to 69999\n",
      "Data columns (total 13 columns):\n",
      " #   Column       Non-Null Count  Dtype  \n",
      "---  ------       --------------  -----  \n",
      " 0   id           70000 non-null  int64  \n",
      " 1   age          70000 non-null  int64  \n",
      " 2   gender       70000 non-null  int64  \n",
      " 3   height       70000 non-null  int64  \n",
      " 4   weight       70000 non-null  float64\n",
      " 5   ap_hi        70000 non-null  int64  \n",
      " 6   ap_lo        70000 non-null  int64  \n",
      " 7   cholesterol  70000 non-null  int64  \n",
      " 8   gluc         70000 non-null  int64  \n",
      " 9   smoke        70000 non-null  int64  \n",
      " 10  alco         70000 non-null  int64  \n",
      " 11  active       70000 non-null  int64  \n",
      " 12  cardio       70000 non-null  int64  \n",
      "dtypes: float64(1), int64(12)\n",
      "memory usage: 6.9 MB\n"
     ]
    }
   ],
   "source": [
    "cardio_data.info()"
   ]
  },
  {
   "cell_type": "markdown",
   "id": "44613743",
   "metadata": {},
   "source": [
    "<p>Because all of the data types are numeric I am going to run describe to see what I can find out about the data at a glance.</p>"
   ]
  },
  {
   "cell_type": "code",
   "execution_count": 5,
   "id": "a8b6bed9",
   "metadata": {},
   "outputs": [
    {
     "data": {
      "text/html": [
       "<div>\n",
       "<style scoped>\n",
       "    .dataframe tbody tr th:only-of-type {\n",
       "        vertical-align: middle;\n",
       "    }\n",
       "\n",
       "    .dataframe tbody tr th {\n",
       "        vertical-align: top;\n",
       "    }\n",
       "\n",
       "    .dataframe thead th {\n",
       "        text-align: right;\n",
       "    }\n",
       "</style>\n",
       "<table border=\"1\" class=\"dataframe\">\n",
       "  <thead>\n",
       "    <tr style=\"text-align: right;\">\n",
       "      <th></th>\n",
       "      <th>id</th>\n",
       "      <th>age</th>\n",
       "      <th>gender</th>\n",
       "      <th>height</th>\n",
       "      <th>weight</th>\n",
       "      <th>ap_hi</th>\n",
       "      <th>ap_lo</th>\n",
       "      <th>cholesterol</th>\n",
       "      <th>gluc</th>\n",
       "      <th>smoke</th>\n",
       "      <th>alco</th>\n",
       "      <th>active</th>\n",
       "      <th>cardio</th>\n",
       "    </tr>\n",
       "  </thead>\n",
       "  <tbody>\n",
       "    <tr>\n",
       "      <th>count</th>\n",
       "      <td>70000.000000</td>\n",
       "      <td>70000.000000</td>\n",
       "      <td>70000.000000</td>\n",
       "      <td>70000.000000</td>\n",
       "      <td>70000.000000</td>\n",
       "      <td>70000.000000</td>\n",
       "      <td>70000.000000</td>\n",
       "      <td>70000.000000</td>\n",
       "      <td>70000.000000</td>\n",
       "      <td>70000.000000</td>\n",
       "      <td>70000.000000</td>\n",
       "      <td>70000.000000</td>\n",
       "      <td>70000.000000</td>\n",
       "    </tr>\n",
       "    <tr>\n",
       "      <th>mean</th>\n",
       "      <td>49972.419900</td>\n",
       "      <td>19468.865814</td>\n",
       "      <td>1.349571</td>\n",
       "      <td>164.359229</td>\n",
       "      <td>74.205690</td>\n",
       "      <td>128.817286</td>\n",
       "      <td>96.630414</td>\n",
       "      <td>1.366871</td>\n",
       "      <td>1.226457</td>\n",
       "      <td>0.088129</td>\n",
       "      <td>0.053771</td>\n",
       "      <td>0.803729</td>\n",
       "      <td>0.499700</td>\n",
       "    </tr>\n",
       "    <tr>\n",
       "      <th>std</th>\n",
       "      <td>28851.302323</td>\n",
       "      <td>2467.251667</td>\n",
       "      <td>0.476838</td>\n",
       "      <td>8.210126</td>\n",
       "      <td>14.395757</td>\n",
       "      <td>154.011419</td>\n",
       "      <td>188.472530</td>\n",
       "      <td>0.680250</td>\n",
       "      <td>0.572270</td>\n",
       "      <td>0.283484</td>\n",
       "      <td>0.225568</td>\n",
       "      <td>0.397179</td>\n",
       "      <td>0.500003</td>\n",
       "    </tr>\n",
       "    <tr>\n",
       "      <th>min</th>\n",
       "      <td>0.000000</td>\n",
       "      <td>10798.000000</td>\n",
       "      <td>1.000000</td>\n",
       "      <td>55.000000</td>\n",
       "      <td>10.000000</td>\n",
       "      <td>-150.000000</td>\n",
       "      <td>-70.000000</td>\n",
       "      <td>1.000000</td>\n",
       "      <td>1.000000</td>\n",
       "      <td>0.000000</td>\n",
       "      <td>0.000000</td>\n",
       "      <td>0.000000</td>\n",
       "      <td>0.000000</td>\n",
       "    </tr>\n",
       "    <tr>\n",
       "      <th>25%</th>\n",
       "      <td>25006.750000</td>\n",
       "      <td>17664.000000</td>\n",
       "      <td>1.000000</td>\n",
       "      <td>159.000000</td>\n",
       "      <td>65.000000</td>\n",
       "      <td>120.000000</td>\n",
       "      <td>80.000000</td>\n",
       "      <td>1.000000</td>\n",
       "      <td>1.000000</td>\n",
       "      <td>0.000000</td>\n",
       "      <td>0.000000</td>\n",
       "      <td>1.000000</td>\n",
       "      <td>0.000000</td>\n",
       "    </tr>\n",
       "    <tr>\n",
       "      <th>50%</th>\n",
       "      <td>50001.500000</td>\n",
       "      <td>19703.000000</td>\n",
       "      <td>1.000000</td>\n",
       "      <td>165.000000</td>\n",
       "      <td>72.000000</td>\n",
       "      <td>120.000000</td>\n",
       "      <td>80.000000</td>\n",
       "      <td>1.000000</td>\n",
       "      <td>1.000000</td>\n",
       "      <td>0.000000</td>\n",
       "      <td>0.000000</td>\n",
       "      <td>1.000000</td>\n",
       "      <td>0.000000</td>\n",
       "    </tr>\n",
       "    <tr>\n",
       "      <th>75%</th>\n",
       "      <td>74889.250000</td>\n",
       "      <td>21327.000000</td>\n",
       "      <td>2.000000</td>\n",
       "      <td>170.000000</td>\n",
       "      <td>82.000000</td>\n",
       "      <td>140.000000</td>\n",
       "      <td>90.000000</td>\n",
       "      <td>2.000000</td>\n",
       "      <td>1.000000</td>\n",
       "      <td>0.000000</td>\n",
       "      <td>0.000000</td>\n",
       "      <td>1.000000</td>\n",
       "      <td>1.000000</td>\n",
       "    </tr>\n",
       "    <tr>\n",
       "      <th>max</th>\n",
       "      <td>99999.000000</td>\n",
       "      <td>23713.000000</td>\n",
       "      <td>2.000000</td>\n",
       "      <td>250.000000</td>\n",
       "      <td>200.000000</td>\n",
       "      <td>16020.000000</td>\n",
       "      <td>11000.000000</td>\n",
       "      <td>3.000000</td>\n",
       "      <td>3.000000</td>\n",
       "      <td>1.000000</td>\n",
       "      <td>1.000000</td>\n",
       "      <td>1.000000</td>\n",
       "      <td>1.000000</td>\n",
       "    </tr>\n",
       "  </tbody>\n",
       "</table>\n",
       "</div>"
      ],
      "text/plain": [
       "                 id           age        gender        height        weight  \\\n",
       "count  70000.000000  70000.000000  70000.000000  70000.000000  70000.000000   \n",
       "mean   49972.419900  19468.865814      1.349571    164.359229     74.205690   \n",
       "std    28851.302323   2467.251667      0.476838      8.210126     14.395757   \n",
       "min        0.000000  10798.000000      1.000000     55.000000     10.000000   \n",
       "25%    25006.750000  17664.000000      1.000000    159.000000     65.000000   \n",
       "50%    50001.500000  19703.000000      1.000000    165.000000     72.000000   \n",
       "75%    74889.250000  21327.000000      2.000000    170.000000     82.000000   \n",
       "max    99999.000000  23713.000000      2.000000    250.000000    200.000000   \n",
       "\n",
       "              ap_hi         ap_lo   cholesterol          gluc         smoke  \\\n",
       "count  70000.000000  70000.000000  70000.000000  70000.000000  70000.000000   \n",
       "mean     128.817286     96.630414      1.366871      1.226457      0.088129   \n",
       "std      154.011419    188.472530      0.680250      0.572270      0.283484   \n",
       "min     -150.000000    -70.000000      1.000000      1.000000      0.000000   \n",
       "25%      120.000000     80.000000      1.000000      1.000000      0.000000   \n",
       "50%      120.000000     80.000000      1.000000      1.000000      0.000000   \n",
       "75%      140.000000     90.000000      2.000000      1.000000      0.000000   \n",
       "max    16020.000000  11000.000000      3.000000      3.000000      1.000000   \n",
       "\n",
       "               alco        active        cardio  \n",
       "count  70000.000000  70000.000000  70000.000000  \n",
       "mean       0.053771      0.803729      0.499700  \n",
       "std        0.225568      0.397179      0.500003  \n",
       "min        0.000000      0.000000      0.000000  \n",
       "25%        0.000000      1.000000      0.000000  \n",
       "50%        0.000000      1.000000      0.000000  \n",
       "75%        0.000000      1.000000      1.000000  \n",
       "max        1.000000      1.000000      1.000000  "
      ]
     },
     "execution_count": 5,
     "metadata": {},
     "output_type": "execute_result"
    }
   ],
   "source": [
    "cardio_data.describe()"
   ]
  },
  {
   "cell_type": "markdown",
   "id": "b2378479",
   "metadata": {},
   "source": [
    "<p>So we have 70,000 entries and some good starting information on what is going on with this data. Smoking, alcohol use, and activity level are denoted with binary (0: No, 1: Yes) while cholesterol and glucose are measured in 3 levels (1: normal, 2: above normal, 3: well above normal). Next we will clean and wrangle it so we can get to asking questions.</p><p></p>\n",
    "\n",
    "### Cleaning The Data<br>\n",
    "<p>I want to check for any missing information and then remove some unnecessary information.</p>"
   ]
  },
  {
   "cell_type": "code",
   "execution_count": 6,
   "id": "7240c966",
   "metadata": {},
   "outputs": [
    {
     "data": {
      "text/plain": [
       "id             0\n",
       "age            0\n",
       "gender         0\n",
       "height         0\n",
       "weight         0\n",
       "ap_hi          0\n",
       "ap_lo          0\n",
       "cholesterol    0\n",
       "gluc           0\n",
       "smoke          0\n",
       "alco           0\n",
       "active         0\n",
       "cardio         0\n",
       "dtype: int64"
      ]
     },
     "execution_count": 6,
     "metadata": {},
     "output_type": "execute_result"
    }
   ],
   "source": [
    "# clean data time\n",
    "# check for null/NA\n",
    "cardio_data.isnull().sum()\n",
    "# no null values"
   ]
  },
  {
   "cell_type": "markdown",
   "id": "81a563d6",
   "metadata": {},
   "source": [
    "<p>So there are no null values in the data set which is very helpful. I will be leaving the id column as a data management and safe keeping measure. If I were a part of this study's team I would need to maintain the id for each patient in order to steward the data, make changes, and keep patient data safe.</p><p></p>\n",
    "<b>Wrangling the Data</b>\n",
    "<p>Some of this information is in units that aren't very usable to me, others are formatted in a way that is a bit confusing, and then I would like to add a column for BMI as a measure of weight relative to height. With age I want to convert it from days to years, and add a category for age groups to help get a sense of the data. The age groups I will be using are from an NIH study on defining more useable age categories for continued medical research. The study will be citied at the bottom of this document. </p>"
   ]
  },
  {
   "cell_type": "code",
   "execution_count": 7,
   "id": "9ec0939a",
   "metadata": {},
   "outputs": [
    {
     "data": {
      "text/html": [
       "<div>\n",
       "<style scoped>\n",
       "    .dataframe tbody tr th:only-of-type {\n",
       "        vertical-align: middle;\n",
       "    }\n",
       "\n",
       "    .dataframe tbody tr th {\n",
       "        vertical-align: top;\n",
       "    }\n",
       "\n",
       "    .dataframe thead th {\n",
       "        text-align: right;\n",
       "    }\n",
       "</style>\n",
       "<table border=\"1\" class=\"dataframe\">\n",
       "  <thead>\n",
       "    <tr style=\"text-align: right;\">\n",
       "      <th></th>\n",
       "      <th>id</th>\n",
       "      <th>age</th>\n",
       "      <th>gender</th>\n",
       "      <th>height</th>\n",
       "      <th>weight</th>\n",
       "      <th>ap_hi</th>\n",
       "      <th>ap_lo</th>\n",
       "      <th>cholesterol</th>\n",
       "      <th>gluc</th>\n",
       "      <th>smoke</th>\n",
       "      <th>alco</th>\n",
       "      <th>active</th>\n",
       "      <th>cardio</th>\n",
       "      <th>age_group</th>\n",
       "      <th>bmi</th>\n",
       "    </tr>\n",
       "  </thead>\n",
       "  <tbody>\n",
       "    <tr>\n",
       "      <th>0</th>\n",
       "      <td>0</td>\n",
       "      <td>50</td>\n",
       "      <td>Male</td>\n",
       "      <td>168</td>\n",
       "      <td>62.0</td>\n",
       "      <td>110</td>\n",
       "      <td>80</td>\n",
       "      <td>1</td>\n",
       "      <td>1</td>\n",
       "      <td>False</td>\n",
       "      <td>False</td>\n",
       "      <td>True</td>\n",
       "      <td>False</td>\n",
       "      <td>Middle Adult</td>\n",
       "      <td>21.967120</td>\n",
       "    </tr>\n",
       "    <tr>\n",
       "      <th>1</th>\n",
       "      <td>1</td>\n",
       "      <td>55</td>\n",
       "      <td>Female</td>\n",
       "      <td>156</td>\n",
       "      <td>85.0</td>\n",
       "      <td>140</td>\n",
       "      <td>90</td>\n",
       "      <td>3</td>\n",
       "      <td>1</td>\n",
       "      <td>False</td>\n",
       "      <td>False</td>\n",
       "      <td>True</td>\n",
       "      <td>True</td>\n",
       "      <td>Middle Adult</td>\n",
       "      <td>34.927679</td>\n",
       "    </tr>\n",
       "    <tr>\n",
       "      <th>2</th>\n",
       "      <td>2</td>\n",
       "      <td>51</td>\n",
       "      <td>Female</td>\n",
       "      <td>165</td>\n",
       "      <td>64.0</td>\n",
       "      <td>130</td>\n",
       "      <td>70</td>\n",
       "      <td>3</td>\n",
       "      <td>1</td>\n",
       "      <td>False</td>\n",
       "      <td>False</td>\n",
       "      <td>False</td>\n",
       "      <td>True</td>\n",
       "      <td>Middle Adult</td>\n",
       "      <td>23.507805</td>\n",
       "    </tr>\n",
       "    <tr>\n",
       "      <th>3</th>\n",
       "      <td>3</td>\n",
       "      <td>48</td>\n",
       "      <td>Male</td>\n",
       "      <td>169</td>\n",
       "      <td>82.0</td>\n",
       "      <td>150</td>\n",
       "      <td>100</td>\n",
       "      <td>1</td>\n",
       "      <td>1</td>\n",
       "      <td>False</td>\n",
       "      <td>False</td>\n",
       "      <td>True</td>\n",
       "      <td>True</td>\n",
       "      <td>Middle Adult</td>\n",
       "      <td>28.710479</td>\n",
       "    </tr>\n",
       "    <tr>\n",
       "      <th>4</th>\n",
       "      <td>4</td>\n",
       "      <td>47</td>\n",
       "      <td>Female</td>\n",
       "      <td>156</td>\n",
       "      <td>56.0</td>\n",
       "      <td>100</td>\n",
       "      <td>60</td>\n",
       "      <td>1</td>\n",
       "      <td>1</td>\n",
       "      <td>False</td>\n",
       "      <td>False</td>\n",
       "      <td>False</td>\n",
       "      <td>False</td>\n",
       "      <td>Middle Adult</td>\n",
       "      <td>23.011177</td>\n",
       "    </tr>\n",
       "  </tbody>\n",
       "</table>\n",
       "</div>"
      ],
      "text/plain": [
       "   id  age  gender  height  weight  ap_hi  ap_lo  cholesterol  gluc  smoke  \\\n",
       "0   0   50    Male     168    62.0    110     80            1     1  False   \n",
       "1   1   55  Female     156    85.0    140     90            3     1  False   \n",
       "2   2   51  Female     165    64.0    130     70            3     1  False   \n",
       "3   3   48    Male     169    82.0    150    100            1     1  False   \n",
       "4   4   47  Female     156    56.0    100     60            1     1  False   \n",
       "\n",
       "    alco active cardio     age_group        bmi  \n",
       "0  False   True  False  Middle Adult  21.967120  \n",
       "1  False   True   True  Middle Adult  34.927679  \n",
       "2  False  False   True  Middle Adult  23.507805  \n",
       "3  False   True   True  Middle Adult  28.710479  \n",
       "4  False  False  False  Middle Adult  23.011177  "
      ]
     },
     "execution_count": 7,
     "metadata": {},
     "output_type": "execute_result"
    }
   ],
   "source": [
    "# wrangling:\n",
    "# age to years\n",
    "def day_to_yr(days):\n",
    "    year = days // 365\n",
    "    return year\n",
    "\n",
    "years = []\n",
    "for patient in cardio_data['age']:\n",
    "    years.append(day_to_yr(patient))\n",
    "cardio_data['age'] = years\n",
    "\n",
    "def age_grouper(the_age):\n",
    "    if the_age < 18:\n",
    "        group = 'Adolescent'\n",
    "    elif the_age < 24:\n",
    "        group = 'Young Adult'\n",
    "    elif the_age < 45:\n",
    "        group = 'Adult'\n",
    "    elif the_age < 65:\n",
    "        group = 'Middle Adult'\n",
    "    else:\n",
    "        group = 'Older Adult'\n",
    "    return group\n",
    "\n",
    "ag = []\n",
    "for patient in cardio_data['age']:\n",
    "    ag.append(age_grouper(patient))\n",
    "cardio_data['age_group'] = ag\n",
    "\n",
    "# bmi\n",
    "def hw_to_bmi(height, weight):\n",
    "    bmi = weight / ((height/100)**2)\n",
    "    return bmi\n",
    "\n",
    "bmis = []\n",
    "for i in range(len(cardio_data['height'])):\n",
    "    bmis.append(hw_to_bmi(cardio_data['height'][i], cardio_data['weight'][i]))\n",
    "cardio_data['bmi'] = bmis\n",
    "\n",
    "def to_true_false(binary):\n",
    "    t_or_f = 'True'\n",
    "    if binary == 0:\n",
    "        t_or_f = 'False'\n",
    "    return t_or_f\n",
    "\n",
    "smokes = []\n",
    "for patient in cardio_data['smoke']:\n",
    "    smokes.append(to_true_false(patient))\n",
    "cardio_data['smoke'] = smokes\n",
    "\n",
    "alcohol = []\n",
    "for patient in cardio_data['alco']:\n",
    "    alcohol.append(to_true_false(patient))\n",
    "cardio_data['alco'] = alcohol\n",
    "\n",
    "actives = []\n",
    "for patient in cardio_data['active']:\n",
    "    actives.append(to_true_false(patient))\n",
    "cardio_data['active'] = actives\n",
    "\n",
    "cd = []\n",
    "for patient in cardio_data['cardio']:\n",
    "    cd.append(to_true_false(patient))\n",
    "cardio_data['cardio'] = cd\n",
    "\n",
    "# gender to MF\n",
    "def get_gender(gen_num):\n",
    "    gender = 'Female'\n",
    "    if gen_num == 2:\n",
    "        gender = 'Male'\n",
    "    return gender\n",
    "\n",
    "genders = []\n",
    "for patient in cardio_data['gender']:\n",
    "    genders.append(get_gender(patient))\n",
    "cardio_data['gender'] = genders\n",
    "\n",
    "\n",
    "\n",
    "# make separate MF df\n",
    "\n",
    "male_data = cardio_data[cardio_data['gender']=='Male']\n",
    "female_data = cardio_data[cardio_data['gender']=='Female']\n",
    "\n",
    "cardio_data.head()"
   ]
  },
  {
   "cell_type": "markdown",
   "id": "132e56d2",
   "metadata": {},
   "source": [
    "<p>I also went ahead and created separate dataframes for the male and female information for ease of use in visualizing data later. </p> <p> </p>\n",
    "\n",
    "### Investigation <br>\n",
    "<p>Now onto the data exploration, I went through first and looked at each variable separately before getting into asking deeper questions. </p>\n",
    "<p>The first variable to take a look at is age: </p>"
   ]
  },
  {
   "cell_type": "code",
   "execution_count": 68,
   "id": "22cc9191",
   "metadata": {},
   "outputs": [
    {
     "data": {
      "image/png": "[encoded data removed]",
      "text/plain": [
       "<Figure size 432x288 with 1 Axes>"
      ]
     },
     "metadata": {
      "needs_background": "light"
     },
     "output_type": "display_data"
    },
    {
     "data": {
      "image/png": "[encoded data removed]",
      "text/plain": [
       "<Figure size 432x288 with 1 Axes>"
      ]
     },
     "metadata": {},
     "output_type": "display_data"
    },
    {
     "data": {
      "image/png": "[encoded data removed]",
      "text/plain": [
       "<Figure size 432x288 with 1 Axes>"
      ]
     },
     "metadata": {
      "needs_background": "light"
     },
     "output_type": "display_data"
    },
    {
     "data": {
      "image/png": "[encoded data removed]",
      "text/plain": [
       "<Figure size 432x288 with 1 Axes>"
      ]
     },
     "metadata": {
      "needs_background": "light"
     },
     "output_type": "display_data"
    },
    {
     "data": {
      "text/html": [
       "<div>\n",
       "<style scoped>\n",
       "    .dataframe tbody tr th:only-of-type {\n",
       "        vertical-align: middle;\n",
       "    }\n",
       "\n",
       "    .dataframe tbody tr th {\n",
       "        vertical-align: top;\n",
       "    }\n",
       "\n",
       "    .dataframe thead th {\n",
       "        text-align: right;\n",
       "    }\n",
       "</style>\n",
       "<table border=\"1\" class=\"dataframe\">\n",
       "  <thead>\n",
       "    <tr style=\"text-align: right;\">\n",
       "      <th></th>\n",
       "      <th>id</th>\n",
       "      <th>age</th>\n",
       "      <th>height</th>\n",
       "      <th>weight</th>\n",
       "      <th>ap_hi</th>\n",
       "      <th>ap_lo</th>\n",
       "      <th>cholesterol</th>\n",
       "      <th>gluc</th>\n",
       "      <th>bmi</th>\n",
       "    </tr>\n",
       "  </thead>\n",
       "  <tbody>\n",
       "    <tr>\n",
       "      <th>count</th>\n",
       "      <td>70000.000000</td>\n",
       "      <td>70000.000000</td>\n",
       "      <td>70000.000000</td>\n",
       "      <td>70000.000000</td>\n",
       "      <td>70000.000000</td>\n",
       "      <td>70000.000000</td>\n",
       "      <td>70000.000000</td>\n",
       "      <td>70000.000000</td>\n",
       "      <td>70000.000000</td>\n",
       "    </tr>\n",
       "    <tr>\n",
       "      <th>mean</th>\n",
       "      <td>49972.419900</td>\n",
       "      <td>52.840671</td>\n",
       "      <td>164.359229</td>\n",
       "      <td>74.205690</td>\n",
       "      <td>128.817286</td>\n",
       "      <td>96.630414</td>\n",
       "      <td>1.366871</td>\n",
       "      <td>1.226457</td>\n",
       "      <td>27.556513</td>\n",
       "    </tr>\n",
       "    <tr>\n",
       "      <th>std</th>\n",
       "      <td>28851.302323</td>\n",
       "      <td>6.766774</td>\n",
       "      <td>8.210126</td>\n",
       "      <td>14.395757</td>\n",
       "      <td>154.011419</td>\n",
       "      <td>188.472530</td>\n",
       "      <td>0.680250</td>\n",
       "      <td>0.572270</td>\n",
       "      <td>6.091511</td>\n",
       "    </tr>\n",
       "    <tr>\n",
       "      <th>min</th>\n",
       "      <td>0.000000</td>\n",
       "      <td>29.000000</td>\n",
       "      <td>55.000000</td>\n",
       "      <td>10.000000</td>\n",
       "      <td>-150.000000</td>\n",
       "      <td>-70.000000</td>\n",
       "      <td>1.000000</td>\n",
       "      <td>1.000000</td>\n",
       "      <td>3.471784</td>\n",
       "    </tr>\n",
       "    <tr>\n",
       "      <th>25%</th>\n",
       "      <td>25006.750000</td>\n",
       "      <td>48.000000</td>\n",
       "      <td>159.000000</td>\n",
       "      <td>65.000000</td>\n",
       "      <td>120.000000</td>\n",
       "      <td>80.000000</td>\n",
       "      <td>1.000000</td>\n",
       "      <td>1.000000</td>\n",
       "      <td>23.875115</td>\n",
       "    </tr>\n",
       "    <tr>\n",
       "      <th>50%</th>\n",
       "      <td>50001.500000</td>\n",
       "      <td>53.000000</td>\n",
       "      <td>165.000000</td>\n",
       "      <td>72.000000</td>\n",
       "      <td>120.000000</td>\n",
       "      <td>80.000000</td>\n",
       "      <td>1.000000</td>\n",
       "      <td>1.000000</td>\n",
       "      <td>26.374068</td>\n",
       "    </tr>\n",
       "    <tr>\n",
       "      <th>75%</th>\n",
       "      <td>74889.250000</td>\n",
       "      <td>58.000000</td>\n",
       "      <td>170.000000</td>\n",
       "      <td>82.000000</td>\n",
       "      <td>140.000000</td>\n",
       "      <td>90.000000</td>\n",
       "      <td>2.000000</td>\n",
       "      <td>1.000000</td>\n",
       "      <td>30.222222</td>\n",
       "    </tr>\n",
       "    <tr>\n",
       "      <th>max</th>\n",
       "      <td>99999.000000</td>\n",
       "      <td>64.000000</td>\n",
       "      <td>250.000000</td>\n",
       "      <td>200.000000</td>\n",
       "      <td>16020.000000</td>\n",
       "      <td>11000.000000</td>\n",
       "      <td>3.000000</td>\n",
       "      <td>3.000000</td>\n",
       "      <td>298.666667</td>\n",
       "    </tr>\n",
       "  </tbody>\n",
       "</table>\n",
       "</div>"
      ],
      "text/plain": [
       "                 id           age        height        weight         ap_hi  \\\n",
       "count  70000.000000  70000.000000  70000.000000  70000.000000  70000.000000   \n",
       "mean   49972.419900     52.840671    164.359229     74.205690    128.817286   \n",
       "std    28851.302323      6.766774      8.210126     14.395757    154.011419   \n",
       "min        0.000000     29.000000     55.000000     10.000000   -150.000000   \n",
       "25%    25006.750000     48.000000    159.000000     65.000000    120.000000   \n",
       "50%    50001.500000     53.000000    165.000000     72.000000    120.000000   \n",
       "75%    74889.250000     58.000000    170.000000     82.000000    140.000000   \n",
       "max    99999.000000     64.000000    250.000000    200.000000  16020.000000   \n",
       "\n",
       "              ap_lo   cholesterol          gluc           bmi  \n",
       "count  70000.000000  70000.000000  70000.000000  70000.000000  \n",
       "mean      96.630414      1.366871      1.226457     27.556513  \n",
       "std      188.472530      0.680250      0.572270      6.091511  \n",
       "min      -70.000000      1.000000      1.000000      3.471784  \n",
       "25%       80.000000      1.000000      1.000000     23.875115  \n",
       "50%       80.000000      1.000000      1.000000     26.374068  \n",
       "75%       90.000000      2.000000      1.000000     30.222222  \n",
       "max    11000.000000      3.000000      3.000000    298.666667  "
      ]
     },
     "execution_count": 68,
     "metadata": {},
     "output_type": "execute_result"
    }
   ],
   "source": [
    "# Connection between age and cardio disease\n",
    "\n",
    "plt.hist(cardio_data['age'], bins = 30)\n",
    "plt.title('Full Data Age Spread')\n",
    "plt.show()\n",
    "\n",
    "ag_counted = cardio_data.groupby(['age_group']).count()\n",
    "\n",
    "plt.pie(ag_counted['age'], labels = ag_counted.index.values)\n",
    "plt.title('Full Data Age Pie')\n",
    "plt.show()\n",
    "\n",
    "cd_cardio_data = cardio_data[cardio_data['cardio'] == 'True']\n",
    "no_cd_cardio_data = cardio_data[cardio_data['cardio'] == 'False']\n",
    "\n",
    "plt.hist(cd_cardio_data['age'], bins = 25, color = 'red')\n",
    "plt.title('Patients with C.D. Ages')\n",
    "plt.show()\n",
    "\n",
    "plt.hist(no_cd_cardio_data['age'], bins = 30, color = 'green')\n",
    "plt.title('Patients without C.D. Ages')\n",
    "plt.show()\n",
    "\n",
    "cardio_data.sort_values(by = 'age')\n",
    "\n",
    "cd_cardio_data.describe()\n",
    "no_cd_cardio_data.describe()\n",
    "\n",
    "cardio_data.describe()"
   ]
  },
  {
   "cell_type": "markdown",
   "id": "fd8a47f1",
   "metadata": {},
   "source": [
    "<p> We only have Middle Adults and Adults in this study, the youngest of which is 29 and the oldest is 64. The biggest of that spread is between 50 to 60. The tail of patients under 40 nearly all do not have cardiovascular disease. The spread of 40 to 65 is fairly even. The average age of those with cardiovascular disease is 54.45, the average age of those without is 51.23. </p><p> </p>\n",
    "<b> Gender: </b>"
   ]
  },
  {
   "cell_type": "code",
   "execution_count": 49,
   "id": "d1486844",
   "metadata": {},
   "outputs": [
    {
     "data": {
      "text/html": [
       "<div>\n",
       "<style scoped>\n",
       "    .dataframe tbody tr th:only-of-type {\n",
       "        vertical-align: middle;\n",
       "    }\n",
       "\n",
       "    .dataframe tbody tr th {\n",
       "        vertical-align: top;\n",
       "    }\n",
       "\n",
       "    .dataframe thead th {\n",
       "        text-align: right;\n",
       "    }\n",
       "</style>\n",
       "<table border=\"1\" class=\"dataframe\">\n",
       "  <thead>\n",
       "    <tr style=\"text-align: right;\">\n",
       "      <th></th>\n",
       "      <th></th>\n",
       "      <th>id</th>\n",
       "      <th>age</th>\n",
       "      <th>height</th>\n",
       "      <th>weight</th>\n",
       "      <th>ap_hi</th>\n",
       "      <th>ap_lo</th>\n",
       "      <th>cholesterol</th>\n",
       "      <th>gluc</th>\n",
       "      <th>smoke</th>\n",
       "      <th>alco</th>\n",
       "      <th>active</th>\n",
       "      <th>age_group</th>\n",
       "      <th>bmi</th>\n",
       "    </tr>\n",
       "    <tr>\n",
       "      <th>gender</th>\n",
       "      <th>cardio</th>\n",
       "      <th></th>\n",
       "      <th></th>\n",
       "      <th></th>\n",
       "      <th></th>\n",
       "      <th></th>\n",
       "      <th></th>\n",
       "      <th></th>\n",
       "      <th></th>\n",
       "      <th></th>\n",
       "      <th></th>\n",
       "      <th></th>\n",
       "      <th></th>\n",
       "      <th></th>\n",
       "    </tr>\n",
       "  </thead>\n",
       "  <tbody>\n",
       "    <tr>\n",
       "      <th rowspan=\"2\" valign=\"top\">Female</th>\n",
       "      <th>False</th>\n",
       "      <td>22914</td>\n",
       "      <td>22914</td>\n",
       "      <td>22914</td>\n",
       "      <td>22914</td>\n",
       "      <td>22914</td>\n",
       "      <td>22914</td>\n",
       "      <td>22914</td>\n",
       "      <td>22914</td>\n",
       "      <td>22914</td>\n",
       "      <td>22914</td>\n",
       "      <td>22914</td>\n",
       "      <td>22914</td>\n",
       "      <td>22914</td>\n",
       "    </tr>\n",
       "    <tr>\n",
       "      <th>True</th>\n",
       "      <td>22616</td>\n",
       "      <td>22616</td>\n",
       "      <td>22616</td>\n",
       "      <td>22616</td>\n",
       "      <td>22616</td>\n",
       "      <td>22616</td>\n",
       "      <td>22616</td>\n",
       "      <td>22616</td>\n",
       "      <td>22616</td>\n",
       "      <td>22616</td>\n",
       "      <td>22616</td>\n",
       "      <td>22616</td>\n",
       "      <td>22616</td>\n",
       "    </tr>\n",
       "    <tr>\n",
       "      <th rowspan=\"2\" valign=\"top\">Male</th>\n",
       "      <th>False</th>\n",
       "      <td>12107</td>\n",
       "      <td>12107</td>\n",
       "      <td>12107</td>\n",
       "      <td>12107</td>\n",
       "      <td>12107</td>\n",
       "      <td>12107</td>\n",
       "      <td>12107</td>\n",
       "      <td>12107</td>\n",
       "      <td>12107</td>\n",
       "      <td>12107</td>\n",
       "      <td>12107</td>\n",
       "      <td>12107</td>\n",
       "      <td>12107</td>\n",
       "    </tr>\n",
       "    <tr>\n",
       "      <th>True</th>\n",
       "      <td>12363</td>\n",
       "      <td>12363</td>\n",
       "      <td>12363</td>\n",
       "      <td>12363</td>\n",
       "      <td>12363</td>\n",
       "      <td>12363</td>\n",
       "      <td>12363</td>\n",
       "      <td>12363</td>\n",
       "      <td>12363</td>\n",
       "      <td>12363</td>\n",
       "      <td>12363</td>\n",
       "      <td>12363</td>\n",
       "      <td>12363</td>\n",
       "    </tr>\n",
       "  </tbody>\n",
       "</table>\n",
       "</div>"
      ],
      "text/plain": [
       "                  id    age  height  weight  ap_hi  ap_lo  cholesterol   gluc  \\\n",
       "gender cardio                                                                   \n",
       "Female False   22914  22914   22914   22914  22914  22914        22914  22914   \n",
       "       True    22616  22616   22616   22616  22616  22616        22616  22616   \n",
       "Male   False   12107  12107   12107   12107  12107  12107        12107  12107   \n",
       "       True    12363  12363   12363   12363  12363  12363        12363  12363   \n",
       "\n",
       "               smoke   alco  active  age_group    bmi  \n",
       "gender cardio                                          \n",
       "Female False   22914  22914   22914      22914  22914  \n",
       "       True    22616  22616   22616      22616  22616  \n",
       "Male   False   12107  12107   12107      12107  12107  \n",
       "       True    12363  12363   12363      12363  12363  "
      ]
     },
     "execution_count": 49,
     "metadata": {},
     "output_type": "execute_result"
    }
   ],
   "source": [
    "# Gender and cardio disease\n",
    "\n",
    "g_cd_counts = cardio_data.groupby(['gender', 'cardio']).count()\n",
    "g_cd_counts\n",
    "\n",
    "female_data.describe()\n",
    "male_data.describe()\n",
    "\n",
    "f_cd_cardio_data = female_data[female_data['cardio'] == 'True']\n",
    "f_no_cd_cardio_data = female_data[female_data['cardio'] == 'False']\n",
    "m_cd_cardio_data = male_data[male_data['cardio'] == 'True']\n",
    "m_no_cd_cardio_data = male_data[male_data['cardio'] == 'False']\n"
   ]
  },
  {
   "cell_type": "markdown",
   "id": "722aadcf",
   "metadata": {},
   "source": [
    "<p> Within the genders there is an equal divide of those with cardiovascular disease and those without. There is nearly twice as men in the study as women. The average age of the male patients is 52.95 and female patiens is 52.62.</p>\n",
    "<p></p>\n",
    "<b> Height: </b>"
   ]
  },
  {
   "cell_type": "code",
   "execution_count": 55,
   "id": "096520fe",
   "metadata": {},
   "outputs": [
    {
     "data": {
      "image/png": "[encoded data removed]",
      "text/plain": [
       "<Figure size 432x288 with 1 Axes>"
      ]
     },
     "metadata": {
      "needs_background": "light"
     },
     "output_type": "display_data"
    },
    {
     "data": {
      "image/png": "[encoded data removed]",
      "text/plain": [
       "<Figure size 432x288 with 1 Axes>"
      ]
     },
     "metadata": {
      "needs_background": "light"
     },
     "output_type": "display_data"
    },
    {
     "data": {
      "image/png": "[encoded data removed]",
      "text/plain": [
       "<Figure size 432x288 with 1 Axes>"
      ]
     },
     "metadata": {
      "needs_background": "light"
     },
     "output_type": "display_data"
    },
    {
     "data": {
      "image/png": "[encoded data removed]",
      "text/plain": [
       "<Figure size 432x288 with 1 Axes>"
      ]
     },
     "metadata": {
      "needs_background": "light"
     },
     "output_type": "display_data"
    },
    {
     "data": {
      "image/png": "[encoded data removed]",
      "text/plain": [
       "<Figure size 432x288 with 1 Axes>"
      ]
     },
     "metadata": {
      "needs_background": "light"
     },
     "output_type": "display_data"
    },
    {
     "data": {
      "text/html": [
       "<div>\n",
       "<style scoped>\n",
       "    .dataframe tbody tr th:only-of-type {\n",
       "        vertical-align: middle;\n",
       "    }\n",
       "\n",
       "    .dataframe tbody tr th {\n",
       "        vertical-align: top;\n",
       "    }\n",
       "\n",
       "    .dataframe thead th {\n",
       "        text-align: right;\n",
       "    }\n",
       "</style>\n",
       "<table border=\"1\" class=\"dataframe\">\n",
       "  <thead>\n",
       "    <tr style=\"text-align: right;\">\n",
       "      <th></th>\n",
       "      <th></th>\n",
       "      <th>count</th>\n",
       "      <th>mean</th>\n",
       "      <th>std</th>\n",
       "      <th>min</th>\n",
       "      <th>25%</th>\n",
       "      <th>50%</th>\n",
       "      <th>75%</th>\n",
       "      <th>max</th>\n",
       "    </tr>\n",
       "    <tr>\n",
       "      <th>gender</th>\n",
       "      <th>cardio</th>\n",
       "      <th></th>\n",
       "      <th></th>\n",
       "      <th></th>\n",
       "      <th></th>\n",
       "      <th></th>\n",
       "      <th></th>\n",
       "      <th></th>\n",
       "      <th></th>\n",
       "    </tr>\n",
       "  </thead>\n",
       "  <tbody>\n",
       "    <tr>\n",
       "      <th rowspan=\"2\" valign=\"top\">Female</th>\n",
       "      <th>False</th>\n",
       "      <td>22914.0</td>\n",
       "      <td>161.608405</td>\n",
       "      <td>7.010019</td>\n",
       "      <td>59.0</td>\n",
       "      <td>157.0</td>\n",
       "      <td>162.0</td>\n",
       "      <td>166.0</td>\n",
       "      <td>198.0</td>\n",
       "    </tr>\n",
       "    <tr>\n",
       "      <th>True</th>\n",
       "      <td>22616.0</td>\n",
       "      <td>161.099487</td>\n",
       "      <td>7.086697</td>\n",
       "      <td>55.0</td>\n",
       "      <td>156.0</td>\n",
       "      <td>161.0</td>\n",
       "      <td>165.0</td>\n",
       "      <td>250.0</td>\n",
       "    </tr>\n",
       "    <tr>\n",
       "      <th rowspan=\"2\" valign=\"top\">Male</th>\n",
       "      <th>False</th>\n",
       "      <td>12107.0</td>\n",
       "      <td>169.822334</td>\n",
       "      <td>7.412181</td>\n",
       "      <td>65.0</td>\n",
       "      <td>165.0</td>\n",
       "      <td>170.0</td>\n",
       "      <td>174.0</td>\n",
       "      <td>207.0</td>\n",
       "    </tr>\n",
       "    <tr>\n",
       "      <th>True</th>\n",
       "      <td>12363.0</td>\n",
       "      <td>170.070857</td>\n",
       "      <td>7.042915</td>\n",
       "      <td>67.0</td>\n",
       "      <td>166.0</td>\n",
       "      <td>170.0</td>\n",
       "      <td>175.0</td>\n",
       "      <td>200.0</td>\n",
       "    </tr>\n",
       "  </tbody>\n",
       "</table>\n",
       "</div>"
      ],
      "text/plain": [
       "                 count        mean       std   min    25%    50%    75%    max\n",
       "gender cardio                                                                 \n",
       "Female False   22914.0  161.608405  7.010019  59.0  157.0  162.0  166.0  198.0\n",
       "       True    22616.0  161.099487  7.086697  55.0  156.0  161.0  165.0  250.0\n",
       "Male   False   12107.0  169.822334  7.412181  65.0  165.0  170.0  174.0  207.0\n",
       "       True    12363.0  170.070857  7.042915  67.0  166.0  170.0  175.0  200.0"
      ]
     },
     "execution_count": 55,
     "metadata": {},
     "output_type": "execute_result"
    }
   ],
   "source": [
    "# Height and cardio disease\n",
    "# Full patient height spread\n",
    "plt.hist(cardio_data['height'], bins = 60, color = 'green')\n",
    "plt.title('Patients Height')\n",
    "plt.show()\n",
    "\n",
    "#Female Patient Heights\n",
    "plt.hist(f_cd_cardio_data['height'], bins = 60, color = 'red')\n",
    "plt.title('Female Patients Height (w/ C.D.)')\n",
    "plt.show()\n",
    "\n",
    "plt.hist(f_no_cd_cardio_data['height'], bins = 60, color = 'red')\n",
    "plt.title('Female Patients Height (w/o C.D.)')\n",
    "plt.show()\n",
    "\n",
    "#Male Patient Heights\n",
    "plt.hist(m_cd_cardio_data['height'], bins = 60, color = 'blue')\n",
    "plt.title('Male Patients Height (w/ C.D.)')\n",
    "plt.show()\n",
    "\n",
    "plt.hist(m_no_cd_cardio_data['height'], bins = 60, color = 'blue')\n",
    "plt.title('Male Patients Height (w/o C.D.)')\n",
    "plt.show()\n",
    "\n",
    "gc_df = cardio_data.groupby(['gender', 'cardio'])\n",
    "gc_df['height'].describe()"
   ]
  },
  {
   "cell_type": "markdown",
   "id": "bd566286",
   "metadata": {},
   "source": [
    "<p> The height of patients is similar across both those with and without cardiovascular disease. </p>\n",
    "<p> </p>\n",
    "<b>Weight: </b>"
   ]
  },
  {
   "cell_type": "code",
   "execution_count": 18,
   "id": "915decdc",
   "metadata": {},
   "outputs": [
    {
     "data": {
      "image/png": "[encoded data removed]",
      "text/plain": [
       "<Figure size 432x288 with 1 Axes>"
      ]
     },
     "metadata": {
      "needs_background": "light"
     },
     "output_type": "display_data"
    },
    {
     "data": {
      "image/png": "[encoded data removed]",
      "text/plain": [
       "<Figure size 432x288 with 1 Axes>"
      ]
     },
     "metadata": {
      "needs_background": "light"
     },
     "output_type": "display_data"
    },
    {
     "data": {
      "image/png": "[encoded data removed]",
      "text/plain": [
       "<Figure size 432x288 with 1 Axes>"
      ]
     },
     "metadata": {
      "needs_background": "light"
     },
     "output_type": "display_data"
    },
    {
     "data": {
      "image/png": "[encoded data removed]",
      "text/plain": [
       "<Figure size 432x288 with 1 Axes>"
      ]
     },
     "metadata": {
      "needs_background": "light"
     },
     "output_type": "display_data"
    },
    {
     "data": {
      "image/png": "[encoded data removed]",
      "text/plain": [
       "<Figure size 432x288 with 1 Axes>"
      ]
     },
     "metadata": {
      "needs_background": "light"
     },
     "output_type": "display_data"
    }
   ],
   "source": [
    "# Weight and cardio disease\n",
    "# Full patient weight spread\n",
    "plt.hist(cardio_data['weight'], bins = 60, color = 'green')\n",
    "plt.title('Patients Weight')\n",
    "plt.show()\n",
    "\n",
    "#Female Patient Weights\n",
    "plt.hist(f_cd_cardio_data['weight'], bins = 60, color = 'red')\n",
    "plt.title('Female Patients Weight (w/ C.D.)')\n",
    "plt.show()\n",
    "\n",
    "plt.hist(f_no_cd_cardio_data['weight'], bins = 60, color = 'red')\n",
    "plt.title('Female Patients Weight (w/o C.D.)')\n",
    "plt.show()\n",
    "\n",
    "#Male Patient Weights\n",
    "plt.hist(m_cd_cardio_data['weight'], bins = 60, color = 'blue')\n",
    "plt.title('Male Patients Weight (w/ C.D.)')\n",
    "plt.show()\n",
    "\n",
    "plt.hist(m_no_cd_cardio_data['weight'], bins = 60, color = 'blue')\n",
    "plt.title('Male Patients Weight (w/o C.D.)')\n",
    "plt.show()\n",
    "\n",
    "# m_cd_cardio_data.describe()"
   ]
  },
  {
   "cell_type": "markdown",
   "id": "c3d27977",
   "metadata": {},
   "source": [
    "<p>The average weights for those with cardivascular disease is 5 kg higher than those without cardiovascular disease.</p>\n",
    "<p></p>\n",
    "<b> BMI: </b>"
   ]
  },
  {
   "cell_type": "code",
   "execution_count": 22,
   "id": "abda5283",
   "metadata": {},
   "outputs": [
    {
     "data": {
      "image/png": "[encoded data removed]",
      "text/plain": [
       "<Figure size 432x288 with 1 Axes>"
      ]
     },
     "metadata": {
      "needs_background": "light"
     },
     "output_type": "display_data"
    },
    {
     "data": {
      "image/png": "[encoded data removed]",
      "text/plain": [
       "<Figure size 432x288 with 1 Axes>"
      ]
     },
     "metadata": {
      "needs_background": "light"
     },
     "output_type": "display_data"
    },
    {
     "data": {
      "image/png": "[encoded data removed]",
      "text/plain": [
       "<Figure size 432x288 with 1 Axes>"
      ]
     },
     "metadata": {
      "needs_background": "light"
     },
     "output_type": "display_data"
    },
    {
     "data": {
      "image/png": "[encoded data removed]",
      "text/plain": [
       "<Figure size 432x288 with 1 Axes>"
      ]
     },
     "metadata": {
      "needs_background": "light"
     },
     "output_type": "display_data"
    },
    {
     "data": {
      "image/png": "[encoded data removed]",
      "text/plain": [
       "<Figure size 432x288 with 1 Axes>"
      ]
     },
     "metadata": {
      "needs_background": "light"
     },
     "output_type": "display_data"
    },
    {
     "data": {
      "text/html": [
       "<div>\n",
       "<style scoped>\n",
       "    .dataframe tbody tr th:only-of-type {\n",
       "        vertical-align: middle;\n",
       "    }\n",
       "\n",
       "    .dataframe tbody tr th {\n",
       "        vertical-align: top;\n",
       "    }\n",
       "\n",
       "    .dataframe thead th {\n",
       "        text-align: right;\n",
       "    }\n",
       "</style>\n",
       "<table border=\"1\" class=\"dataframe\">\n",
       "  <thead>\n",
       "    <tr style=\"text-align: right;\">\n",
       "      <th></th>\n",
       "      <th>id</th>\n",
       "      <th>age</th>\n",
       "      <th>height</th>\n",
       "      <th>weight</th>\n",
       "      <th>ap_hi</th>\n",
       "      <th>ap_lo</th>\n",
       "      <th>cholesterol</th>\n",
       "      <th>gluc</th>\n",
       "      <th>bmi</th>\n",
       "    </tr>\n",
       "  </thead>\n",
       "  <tbody>\n",
       "    <tr>\n",
       "      <th>count</th>\n",
       "      <td>22914.000000</td>\n",
       "      <td>22914.000000</td>\n",
       "      <td>22914.000000</td>\n",
       "      <td>22914.000000</td>\n",
       "      <td>22914.000000</td>\n",
       "      <td>22914.000000</td>\n",
       "      <td>22914.000000</td>\n",
       "      <td>22914.000000</td>\n",
       "      <td>22914.000000</td>\n",
       "    </tr>\n",
       "    <tr>\n",
       "      <th>mean</th>\n",
       "      <td>49886.614166</td>\n",
       "      <td>51.268788</td>\n",
       "      <td>161.608405</td>\n",
       "      <td>69.992834</td>\n",
       "      <td>119.992319</td>\n",
       "      <td>81.966527</td>\n",
       "      <td>1.227154</td>\n",
       "      <td>1.178013</td>\n",
       "      <td>26.891787</td>\n",
       "    </tr>\n",
       "    <tr>\n",
       "      <th>std</th>\n",
       "      <td>28781.688051</td>\n",
       "      <td>6.666640</td>\n",
       "      <td>7.010019</td>\n",
       "      <td>13.178415</td>\n",
       "      <td>126.909019</td>\n",
       "      <td>115.811455</td>\n",
       "      <td>0.535424</td>\n",
       "      <td>0.511760</td>\n",
       "      <td>5.883630</td>\n",
       "    </tr>\n",
       "    <tr>\n",
       "      <th>min</th>\n",
       "      <td>4.000000</td>\n",
       "      <td>29.000000</td>\n",
       "      <td>59.000000</td>\n",
       "      <td>23.000000</td>\n",
       "      <td>-100.000000</td>\n",
       "      <td>0.000000</td>\n",
       "      <td>1.000000</td>\n",
       "      <td>1.000000</td>\n",
       "      <td>9.331007</td>\n",
       "    </tr>\n",
       "    <tr>\n",
       "      <th>25%</th>\n",
       "      <td>24837.750000</td>\n",
       "      <td>46.000000</td>\n",
       "      <td>157.000000</td>\n",
       "      <td>61.000000</td>\n",
       "      <td>110.000000</td>\n",
       "      <td>70.000000</td>\n",
       "      <td>1.000000</td>\n",
       "      <td>1.000000</td>\n",
       "      <td>23.437500</td>\n",
       "    </tr>\n",
       "    <tr>\n",
       "      <th>50%</th>\n",
       "      <td>50071.000000</td>\n",
       "      <td>52.000000</td>\n",
       "      <td>162.000000</td>\n",
       "      <td>68.000000</td>\n",
       "      <td>120.000000</td>\n",
       "      <td>80.000000</td>\n",
       "      <td>1.000000</td>\n",
       "      <td>1.000000</td>\n",
       "      <td>25.711662</td>\n",
       "    </tr>\n",
       "    <tr>\n",
       "      <th>75%</th>\n",
       "      <td>74666.250000</td>\n",
       "      <td>56.000000</td>\n",
       "      <td>166.000000</td>\n",
       "      <td>77.000000</td>\n",
       "      <td>120.000000</td>\n",
       "      <td>80.000000</td>\n",
       "      <td>1.000000</td>\n",
       "      <td>1.000000</td>\n",
       "      <td>29.402273</td>\n",
       "    </tr>\n",
       "    <tr>\n",
       "      <th>max</th>\n",
       "      <td>99999.000000</td>\n",
       "      <td>64.000000</td>\n",
       "      <td>198.000000</td>\n",
       "      <td>200.000000</td>\n",
       "      <td>14020.000000</td>\n",
       "      <td>8200.000000</td>\n",
       "      <td>3.000000</td>\n",
       "      <td>3.000000</td>\n",
       "      <td>237.768633</td>\n",
       "    </tr>\n",
       "  </tbody>\n",
       "</table>\n",
       "</div>"
      ],
      "text/plain": [
       "                 id           age        height        weight         ap_hi  \\\n",
       "count  22914.000000  22914.000000  22914.000000  22914.000000  22914.000000   \n",
       "mean   49886.614166     51.268788    161.608405     69.992834    119.992319   \n",
       "std    28781.688051      6.666640      7.010019     13.178415    126.909019   \n",
       "min        4.000000     29.000000     59.000000     23.000000   -100.000000   \n",
       "25%    24837.750000     46.000000    157.000000     61.000000    110.000000   \n",
       "50%    50071.000000     52.000000    162.000000     68.000000    120.000000   \n",
       "75%    74666.250000     56.000000    166.000000     77.000000    120.000000   \n",
       "max    99999.000000     64.000000    198.000000    200.000000  14020.000000   \n",
       "\n",
       "              ap_lo   cholesterol          gluc           bmi  \n",
       "count  22914.000000  22914.000000  22914.000000  22914.000000  \n",
       "mean      81.966527      1.227154      1.178013     26.891787  \n",
       "std      115.811455      0.535424      0.511760      5.883630  \n",
       "min        0.000000      1.000000      1.000000      9.331007  \n",
       "25%       70.000000      1.000000      1.000000     23.437500  \n",
       "50%       80.000000      1.000000      1.000000     25.711662  \n",
       "75%       80.000000      1.000000      1.000000     29.402273  \n",
       "max     8200.000000      3.000000      3.000000    237.768633  "
      ]
     },
     "execution_count": 22,
     "metadata": {},
     "output_type": "execute_result"
    }
   ],
   "source": [
    "# BMI and cardio disease\n",
    "# Full patient bmi spread\n",
    "plt.hist(cardio_data['bmi'], bins = 20, color = 'green')\n",
    "plt.title('Patients BMI')\n",
    "plt.show()\n",
    "\n",
    "#Female Patient Heights\n",
    "plt.hist(f_cd_cardio_data['bmi'], bins = 20, color = 'red')\n",
    "plt.title('Female Patients BMI (w/ C.D.)')\n",
    "plt.show()\n",
    "\n",
    "plt.hist(f_no_cd_cardio_data['bmi'], bins = 20, color = 'red')\n",
    "plt.title('Female Patients BMI (w/o C.D.)')\n",
    "plt.show()\n",
    "\n",
    "#Male Patient Heights\n",
    "plt.hist(m_cd_cardio_data['bmi'], bins = 20, color = 'blue')\n",
    "plt.title('Male Patients BMI (w/ C.D.)')\n",
    "plt.show()\n",
    "\n",
    "plt.hist(m_no_cd_cardio_data['bmi'], bins = 20, color = 'blue')\n",
    "plt.title('Male Patients BMI (w/o C.D.)')\n",
    "plt.show()\n",
    "\n",
    "# f_no_cd_cardio_data.describe()"
   ]
  },
  {
   "cell_type": "markdown",
   "id": "b7a3ad83",
   "metadata": {},
   "source": [
    "<p> The average BMI for patients with cardiovascular disease is 2 kg/m2 higher than their counterparts. The spread of those bmi tends to be tighter in those without cardiovascular disease, while there tends to be more of a postive skew.  \n",
    "</p>\n",
    "<p> </p>\n",
    "<b>Blood Pressue: </b>"
   ]
  },
  {
   "cell_type": "code",
   "execution_count": 32,
   "id": "baab7b60",
   "metadata": {},
   "outputs": [
    {
     "data": {
      "text/html": [
       "<div>\n",
       "<style scoped>\n",
       "    .dataframe tbody tr th:only-of-type {\n",
       "        vertical-align: middle;\n",
       "    }\n",
       "\n",
       "    .dataframe tbody tr th {\n",
       "        vertical-align: top;\n",
       "    }\n",
       "\n",
       "    .dataframe thead th {\n",
       "        text-align: right;\n",
       "    }\n",
       "</style>\n",
       "<table border=\"1\" class=\"dataframe\">\n",
       "  <thead>\n",
       "    <tr style=\"text-align: right;\">\n",
       "      <th></th>\n",
       "      <th>id</th>\n",
       "      <th>age</th>\n",
       "      <th>height</th>\n",
       "      <th>weight</th>\n",
       "      <th>ap_hi</th>\n",
       "      <th>ap_lo</th>\n",
       "      <th>cholesterol</th>\n",
       "      <th>gluc</th>\n",
       "      <th>bmi</th>\n",
       "    </tr>\n",
       "  </thead>\n",
       "  <tbody>\n",
       "    <tr>\n",
       "      <th>count</th>\n",
       "      <td>34979.000000</td>\n",
       "      <td>34979.000000</td>\n",
       "      <td>34979.000000</td>\n",
       "      <td>34979.000000</td>\n",
       "      <td>34979.000000</td>\n",
       "      <td>34979.000000</td>\n",
       "      <td>34979.000000</td>\n",
       "      <td>34979.000000</td>\n",
       "      <td>34979.000000</td>\n",
       "    </tr>\n",
       "    <tr>\n",
       "      <th>mean</th>\n",
       "      <td>50082.102233</td>\n",
       "      <td>54.452014</td>\n",
       "      <td>164.270334</td>\n",
       "      <td>76.822368</td>\n",
       "      <td>137.212042</td>\n",
       "      <td>109.023929</td>\n",
       "      <td>1.517396</td>\n",
       "      <td>1.277595</td>\n",
       "      <td>28.566061</td>\n",
       "    </tr>\n",
       "    <tr>\n",
       "      <th>std</th>\n",
       "      <td>28834.739699</td>\n",
       "      <td>6.354347</td>\n",
       "      <td>8.270084</td>\n",
       "      <td>14.960125</td>\n",
       "      <td>191.289607</td>\n",
       "      <td>217.805266</td>\n",
       "      <td>0.776355</td>\n",
       "      <td>0.624617</td>\n",
       "      <td>6.383666</td>\n",
       "    </tr>\n",
       "    <tr>\n",
       "      <th>min</th>\n",
       "      <td>1.000000</td>\n",
       "      <td>39.000000</td>\n",
       "      <td>55.000000</td>\n",
       "      <td>10.000000</td>\n",
       "      <td>-150.000000</td>\n",
       "      <td>-70.000000</td>\n",
       "      <td>1.000000</td>\n",
       "      <td>1.000000</td>\n",
       "      <td>3.471784</td>\n",
       "    </tr>\n",
       "    <tr>\n",
       "      <th>25%</th>\n",
       "      <td>25272.500000</td>\n",
       "      <td>50.000000</td>\n",
       "      <td>159.000000</td>\n",
       "      <td>66.000000</td>\n",
       "      <td>120.000000</td>\n",
       "      <td>80.000000</td>\n",
       "      <td>1.000000</td>\n",
       "      <td>1.000000</td>\n",
       "      <td>24.489796</td>\n",
       "    </tr>\n",
       "    <tr>\n",
       "      <th>50%</th>\n",
       "      <td>50115.000000</td>\n",
       "      <td>55.000000</td>\n",
       "      <td>165.000000</td>\n",
       "      <td>75.000000</td>\n",
       "      <td>130.000000</td>\n",
       "      <td>80.000000</td>\n",
       "      <td>1.000000</td>\n",
       "      <td>1.000000</td>\n",
       "      <td>27.471384</td>\n",
       "    </tr>\n",
       "    <tr>\n",
       "      <th>75%</th>\n",
       "      <td>75027.500000</td>\n",
       "      <td>59.000000</td>\n",
       "      <td>170.000000</td>\n",
       "      <td>85.000000</td>\n",
       "      <td>140.000000</td>\n",
       "      <td>90.000000</td>\n",
       "      <td>2.000000</td>\n",
       "      <td>1.000000</td>\n",
       "      <td>31.555556</td>\n",
       "    </tr>\n",
       "    <tr>\n",
       "      <th>max</th>\n",
       "      <td>99998.000000</td>\n",
       "      <td>64.000000</td>\n",
       "      <td>250.000000</td>\n",
       "      <td>200.000000</td>\n",
       "      <td>16020.000000</td>\n",
       "      <td>11000.000000</td>\n",
       "      <td>3.000000</td>\n",
       "      <td>3.000000</td>\n",
       "      <td>298.666667</td>\n",
       "    </tr>\n",
       "  </tbody>\n",
       "</table>\n",
       "</div>"
      ],
      "text/plain": [
       "                 id           age        height        weight         ap_hi  \\\n",
       "count  34979.000000  34979.000000  34979.000000  34979.000000  34979.000000   \n",
       "mean   50082.102233     54.452014    164.270334     76.822368    137.212042   \n",
       "std    28834.739699      6.354347      8.270084     14.960125    191.289607   \n",
       "min        1.000000     39.000000     55.000000     10.000000   -150.000000   \n",
       "25%    25272.500000     50.000000    159.000000     66.000000    120.000000   \n",
       "50%    50115.000000     55.000000    165.000000     75.000000    130.000000   \n",
       "75%    75027.500000     59.000000    170.000000     85.000000    140.000000   \n",
       "max    99998.000000     64.000000    250.000000    200.000000  16020.000000   \n",
       "\n",
       "              ap_lo   cholesterol          gluc           bmi  \n",
       "count  34979.000000  34979.000000  34979.000000  34979.000000  \n",
       "mean     109.023929      1.517396      1.277595     28.566061  \n",
       "std      217.805266      0.776355      0.624617      6.383666  \n",
       "min      -70.000000      1.000000      1.000000      3.471784  \n",
       "25%       80.000000      1.000000      1.000000     24.489796  \n",
       "50%       80.000000      1.000000      1.000000     27.471384  \n",
       "75%       90.000000      2.000000      1.000000     31.555556  \n",
       "max    11000.000000      3.000000      3.000000    298.666667  "
      ]
     },
     "execution_count": 32,
     "metadata": {},
     "output_type": "execute_result"
    }
   ],
   "source": [
    "cardio_data[cardio_data['cardio']=='False'].describe()\n",
    "cardio_data[cardio_data['cardio']=='True'].describe()"
   ]
  },
  {
   "cell_type": "markdown",
   "id": "1bf91c37",
   "metadata": {},
   "source": [
    "<p> In those without cardiovascular disease the mean systolic blood pressue is 120.43 with an interquartile range of 10 and  the mean diastolic blood pressure is 84.25 with an interquartile range of 10. These fall into the normal blood pressure category according to the American Heart Association. In those with cardiovascular disease the mean systolic blood pressue is 137.21 with an interquartile range of 20 and  the mean diastolic blood pressure is 109.02 with an interquartile range of 10. These fall into the high blood pressure stage 1 and 2 categories according to the American Heart Association.\n",
    "</p>\n",
    "<p> </p>\n",
    "<b>Cholesterol: </b>"
   ]
  },
  {
   "cell_type": "code",
   "execution_count": 58,
   "id": "af43ecad",
   "metadata": {},
   "outputs": [
    {
     "data": {
      "image/png": "[encoded data removed]",
      "text/plain": [
       "<Figure size 432x288 with 1 Axes>"
      ]
     },
     "metadata": {
      "needs_background": "light"
     },
     "output_type": "display_data"
    },
    {
     "data": {
      "image/png": "[encoded data removed]",
      "text/plain": [
       "<Figure size 432x288 with 1 Axes>"
      ]
     },
     "metadata": {
      "needs_background": "light"
     },
     "output_type": "display_data"
    },
    {
     "data": {
      "image/png": "[encoded data removed]",
      "text/plain": [
       "<Figure size 432x288 with 1 Axes>"
      ]
     },
     "metadata": {
      "needs_background": "light"
     },
     "output_type": "display_data"
    },
    {
     "data": {
      "image/png": "[encoded data removed]",
      "text/plain": [
       "<Figure size 432x288 with 1 Axes>"
      ]
     },
     "metadata": {
      "needs_background": "light"
     },
     "output_type": "display_data"
    },
    {
     "data": {
      "image/png": "[encoded data removed]",
      "text/plain": [
       "<Figure size 432x288 with 1 Axes>"
      ]
     },
     "metadata": {
      "needs_background": "light"
     },
     "output_type": "display_data"
    },
    {
     "data": {
      "image/png": "[encoded data removed]",
      "text/plain": [
       "<Figure size 432x288 with 1 Axes>"
      ]
     },
     "metadata": {
      "needs_background": "light"
     },
     "output_type": "display_data"
    },
    {
     "data": {
      "image/png": "[encoded data removed]",
      "text/plain": [
       "<Figure size 432x288 with 1 Axes>"
      ]
     },
     "metadata": {
      "needs_background": "light"
     },
     "output_type": "display_data"
    }
   ],
   "source": [
    "# Cholesterol\n",
    "chol_data = cardio_data.groupby('cholesterol').count()\n",
    " \n",
    "# creating the bar plot\n",
    "plt.bar(chol_data.index.values, chol_data['id'], color = 'green')\n",
    "plt.title('Patients Cholesterol Counts')\n",
    "plt.show()\n",
    "\n",
    "cd_chol_data = cd_cardio_data.groupby('cholesterol').count()\n",
    "nocd_chol_data = no_cd_cardio_data.groupby('cholesterol').count()\n",
    "# creating the bar plot\n",
    "plt.bar(cd_chol_data.index.values, cd_chol_data['id'], color = 'red')\n",
    "plt.title('Patients w/ CVD Cholesterol Counts')\n",
    "plt.show()\n",
    "plt.bar(nocd_chol_data.index.values, nocd_chol_data['id'], color = 'red')\n",
    "plt.title('Patients w/o CVD Cholesterol Counts')\n",
    "plt.show()\n",
    "\n",
    "#Female Patient Heights\n",
    "f_chol_data = f_cd_cardio_data.groupby('cholesterol').count()\n",
    "plt.bar(f_chol_data.index.values, f_chol_data['id'], color = 'red')\n",
    "plt.title('Female Patients Cholesterol (w/ C.D.)')\n",
    "plt.show()\n",
    "\n",
    "f_no_chol_data = f_no_cd_cardio_data.groupby('cholesterol').count()\n",
    "plt.bar(f_no_chol_data.index.values, f_no_chol_data['id'], color = 'red')\n",
    "plt.title('Female Patients Cholesterol (w/o C.D.)')\n",
    "plt.show()\n",
    "\n",
    "#Male Patient Heights\n",
    "m_chol_data = m_cd_cardio_data.groupby('cholesterol').count()\n",
    "plt.bar(m_chol_data.index.values, m_chol_data['id'], color = 'blue')\n",
    "plt.title('Male Patients Cholesterol (w/ C.D.)')\n",
    "plt.show()\n",
    "\n",
    "m_no_chol_data = m_no_cd_cardio_data.groupby('cholesterol').count()\n",
    "plt.bar(m_no_chol_data.index.values, m_no_chol_data['id'], color = 'blue')\n",
    "plt.title('Male Patients Cholesterol (w/o C.D.)')\n",
    "plt.show()\n"
   ]
  },
  {
   "cell_type": "markdown",
   "id": "bc821b20",
   "metadata": {},
   "source": [
    "<p> Patients with cardiovascular disease tend to have higher levels of cholesterol than those without. </p>\n",
    "<p></p>\n",
    "<b> Glucose: </b>"
   ]
  },
  {
   "cell_type": "code",
   "execution_count": 59,
   "id": "76dce904",
   "metadata": {},
   "outputs": [
    {
     "data": {
      "image/png": "[encoded data removed]",
      "text/plain": [
       "<Figure size 432x288 with 1 Axes>"
      ]
     },
     "metadata": {
      "needs_background": "light"
     },
     "output_type": "display_data"
    },
    {
     "data": {
      "image/png": "[encoded data removed]",
      "text/plain": [
       "<Figure size 432x288 with 1 Axes>"
      ]
     },
     "metadata": {
      "needs_background": "light"
     },
     "output_type": "display_data"
    },
    {
     "data": {
      "image/png": "[encoded data removed]",
      "text/plain": [
       "<Figure size 432x288 with 1 Axes>"
      ]
     },
     "metadata": {
      "needs_background": "light"
     },
     "output_type": "display_data"
    },
    {
     "data": {
      "image/png": "[encoded data removed]",
      "text/plain": [
       "<Figure size 432x288 with 1 Axes>"
      ]
     },
     "metadata": {
      "needs_background": "light"
     },
     "output_type": "display_data"
    },
    {
     "data": {
      "image/png": "[encoded data removed]",
      "text/plain": [
       "<Figure size 432x288 with 1 Axes>"
      ]
     },
     "metadata": {
      "needs_background": "light"
     },
     "output_type": "display_data"
    },
    {
     "data": {
      "image/png": "[encoded data removed]",
      "text/plain": [
       "<Figure size 432x288 with 1 Axes>"
      ]
     },
     "metadata": {
      "needs_background": "light"
     },
     "output_type": "display_data"
    },
    {
     "data": {
      "image/png": "[encoded data removed]",
      "text/plain": [
       "<Figure size 432x288 with 1 Axes>"
      ]
     },
     "metadata": {
      "needs_background": "light"
     },
     "output_type": "display_data"
    }
   ],
   "source": [
    "# Glucose\n",
    "gluc_data = cardio_data.groupby('gluc').count()\n",
    " \n",
    "# creating the bar plot\n",
    "plt.bar(gluc_data.index.values, gluc_data['id'], color = 'green')\n",
    "plt.title('Patients Glucose Counts')\n",
    "plt.show()\n",
    "\n",
    "cd_gluc_data = cd_cardio_data.groupby('gluc').count()\n",
    "nocd_gluc_data = no_cd_cardio_data.groupby('gluc').count()\n",
    "# creating the bar plot\n",
    "plt.bar(cd_gluc_data.index.values, cd_gluc_data['id'], color = 'red')\n",
    "plt.title('Patients w/ CVD Glucose Counts')\n",
    "plt.show()\n",
    "plt.bar(nocd_gluc_data.index.values, nocd_gluc_data['id'], color = 'red')\n",
    "plt.title('Patients w/o CVD Cholesterol Counts')\n",
    "plt.show()\n",
    "\n",
    "#Female Patient \n",
    "f_gluc_data = f_cd_cardio_data.groupby('gluc').count()\n",
    "plt.bar(f_gluc_data.index.values, f_gluc_data['id'], color = 'red')\n",
    "plt.title('Female Patients Glucose (w/ C.D.)')\n",
    "plt.show()\n",
    "\n",
    "f_no_gluc_data = f_no_cd_cardio_data.groupby('gluc').count()\n",
    "plt.bar(f_no_gluc_data.index.values, f_no_gluc_data['id'], color = 'red')\n",
    "plt.title('Female Patients Glucose (w/o C.D.)')\n",
    "plt.show()\n",
    "\n",
    "#Male Patient \n",
    "m_gluc_data = m_cd_cardio_data.groupby('gluc').count()\n",
    "plt.bar(m_gluc_data.index.values, m_gluc_data['id'], color = 'blue')\n",
    "plt.title('Male Patients Glucose (w/ C.D.)')\n",
    "plt.show()\n",
    "\n",
    "m_no_gluc_data = m_no_cd_cardio_data.groupby('gluc').count()\n",
    "plt.bar(m_no_gluc_data.index.values, m_no_gluc_data['id'], color = 'blue')\n",
    "plt.title('Male Patients Glucose (w/o C.D.)')\n",
    "plt.show()"
   ]
  },
  {
   "cell_type": "markdown",
   "id": "4e61c6ce",
   "metadata": {},
   "source": [
    "<p> While the ratio of those with higher than average glucose is higher in those with cardiovascular disease, the difference between those with and without cardiovascular disease is not nearly as significant as it is in cholesterol levels. </p>\n",
    "<p> </p>\n",
    "<b> Smoking Status:</b>"
   ]
  },
  {
   "cell_type": "code",
   "execution_count": 67,
   "id": "52b2e780",
   "metadata": {},
   "outputs": [
    {
     "data": {
      "image/png": "[encoded data removed]",
      "text/plain": [
       "<Figure size 432x288 with 1 Axes>"
      ]
     },
     "metadata": {},
     "output_type": "display_data"
    },
    {
     "data": {
      "image/png": "[encoded data removed]",
      "text/plain": [
       "<Figure size 432x288 with 1 Axes>"
      ]
     },
     "metadata": {},
     "output_type": "display_data"
    },
    {
     "data": {
      "image/png": "[encoded data removed]",
      "text/plain": [
       "<Figure size 432x288 with 1 Axes>"
      ]
     },
     "metadata": {},
     "output_type": "display_data"
    },
    {
     "data": {
      "image/png": "[encoded data removed]",
      "text/plain": [
       "<Figure size 432x288 with 1 Axes>"
      ]
     },
     "metadata": {},
     "output_type": "display_data"
    },
    {
     "data": {
      "image/png": "[encoded data removed]",
      "text/plain": [
       "<Figure size 432x288 with 1 Axes>"
      ]
     },
     "metadata": {},
     "output_type": "display_data"
    },
    {
     "data": {
      "image/png": "[encoded data removed]",
      "text/plain": [
       "<Figure size 432x288 with 1 Axes>"
      ]
     },
     "metadata": {},
     "output_type": "display_data"
    },
    {
     "data": {
      "image/png": "[encoded data removed]",
      "text/plain": [
       "<Figure size 432x288 with 1 Axes>"
      ]
     },
     "metadata": {},
     "output_type": "display_data"
    }
   ],
   "source": [
    "# Smoking status\n",
    "smoke_counted = cardio_data.groupby(['smoke']).count()\n",
    "\n",
    "plt.pie(smoke_counted['id'], labels = smoke_counted.index.values, )\n",
    "plt.title('Full Data Smoking Pie')\n",
    "plt.show()\n",
    "\n",
    "#Female Patient \n",
    "f_smoke_counted = f_cd_cardio_data.groupby('smoke').count()\n",
    "plt.pie(f_smoke_counted['id'], labels = f_smoke_counted.index.values, colors = ['red', 'blue'])\n",
    "plt.title('Female Smoking Proportion (w/ CVD)')\n",
    "plt.show()\n",
    "\n",
    "f_nocd_smoke_counted = f_no_cd_cardio_data.groupby('smoke').count()\n",
    "plt.pie(f_nocd_smoke_counted['id'], labels = f_nocd_smoke_counted.index.values, colors = ['red', 'blue'])\n",
    "plt.title('Female Smoking Proportion (w/o CVD)')\n",
    "plt.show()\n",
    "f_smoke_counted = female_data.groupby('smoke').count()\n",
    "plt.pie(f_smoke_counted['id'], labels = f_smoke_counted.index.values, colors = ['red', 'blue'])\n",
    "plt.title('Female Smoking Proportion')\n",
    "plt.show()\n",
    "\n",
    "#Male Patients\n",
    "m_smoke_counted = m_cd_cardio_data.groupby('smoke').count()\n",
    "plt.pie(m_smoke_counted['id'], labels = m_smoke_counted.index.values, colors = ['blue', 'red'])\n",
    "plt.title('Male Smoking Proportion (w/ CVD)')\n",
    "plt.show()\n",
    "\n",
    "m_nocd_smoke_counted = m_no_cd_cardio_data.groupby('smoke').count()\n",
    "plt.pie(m_nocd_smoke_counted['id'], labels = m_nocd_smoke_counted.index.values, colors = ['blue', 'red'])\n",
    "plt.title('Male Smoking Proportion (w/o CVD)')\n",
    "plt.show()\n",
    "m_smoke_counted = male_data.groupby('smoke').count()\n",
    "plt.pie(m_smoke_counted['id'], labels = m_smoke_counted.index.values, colors = ['blue', 'red'])\n",
    "plt.title('Male Smoking Proportion')\n",
    "plt.show()"
   ]
  },
  {
   "cell_type": "markdown",
   "id": "b0bcbfff",
   "metadata": {},
   "source": [
    "<p> More men than women smoke, and the difference of smoking between those with and without cardiovascular disease is more prominent in men than women. More men without cardiovascular disease smoke than those with, which brings up something to consider when looking at snapshot data, we cannot see the causality or timeline. Do men with cardiovascular disease not smoke as much because their doctors told them not to for their acute health concerns? Do they not smoke now because they smoked in their youth and realized it was bad for their health? Do men with cardiovascular disease start smoking at lower rates because they already experience chest pains/shortness of breath. The same can be asked for factors above, do people with high cholesterol develop cardiovascular disease, or does the presence of cardiovascular disease cause an elevation of cholesterol. As we continue forward looking at the current correlations in the data it is helpful to question how these correlations develop. </p>\n",
    "<p>  </p>\n",
    "<b> Alcohol Use:</b>"
   ]
  },
  {
   "cell_type": "code",
   "execution_count": 66,
   "id": "3e5a3bb1",
   "metadata": {},
   "outputs": [
    {
     "data": {
      "image/png": "[encoded data removed]",
      "text/plain": [
       "<Figure size 432x288 with 1 Axes>"
      ]
     },
     "metadata": {},
     "output_type": "display_data"
    },
    {
     "data": {
      "image/png": "[encoded data removed]",
      "text/plain": [
       "<Figure size 432x288 with 1 Axes>"
      ]
     },
     "metadata": {},
     "output_type": "display_data"
    },
    {
     "data": {
      "image/png": "[encoded data removed]",
      "text/plain": [
       "<Figure size 432x288 with 1 Axes>"
      ]
     },
     "metadata": {},
     "output_type": "display_data"
    },
    {
     "data": {
      "image/png": "[encoded data removed]",
      "text/plain": [
       "<Figure size 432x288 with 1 Axes>"
      ]
     },
     "metadata": {},
     "output_type": "display_data"
    },
    {
     "data": {
      "image/png": "[encoded data removed]",
      "text/plain": [
       "<Figure size 432x288 with 1 Axes>"
      ]
     },
     "metadata": {},
     "output_type": "display_data"
    },
    {
     "data": {
      "image/png": "[encoded data removed]",
      "text/plain": [
       "<Figure size 432x288 with 1 Axes>"
      ]
     },
     "metadata": {},
     "output_type": "display_data"
    },
    {
     "data": {
      "image/png": "[encoded data removed]",
      "text/plain": [
       "<Figure size 432x288 with 1 Axes>"
      ]
     },
     "metadata": {},
     "output_type": "display_data"
    }
   ],
   "source": [
    "# Alcohol Use\n",
    "alco_counted = cardio_data.groupby(['alco']).count()\n",
    "\n",
    "plt.pie(alco_counted['id'], labels = alco_counted.index.values)\n",
    "plt.title('Full Data Alcohol Use Pie')\n",
    "plt.show()\n",
    "\n",
    "#Female Patient Heights\n",
    "f_alco_counted = f_cd_cardio_data.groupby('alco').count()\n",
    "plt.pie(f_alco_counted['id'], labels = f_alco_counted.index.values, colors = ['red', 'blue'])\n",
    "plt.title('Female Alcohol Use Proportion (w/ CVD)')\n",
    "plt.show()\n",
    "\n",
    "f_nocd_alco_counted = f_no_cd_cardio_data.groupby('alco').count()\n",
    "plt.pie(f_nocd_alco_counted['id'], labels = f_nocd_alco_counted.index.values, colors = ['red', 'blue'])\n",
    "plt.title('Female Alcohol Use Proportion (w/o CVD)')\n",
    "plt.show()\n",
    "\n",
    "f_alco_counted = female_data.groupby('alco').count()\n",
    "plt.pie(f_alco_counted['id'], labels = f_alco_counted.index.values, colors = ['red', 'blue'])\n",
    "plt.title('Female Alcohol Use Proportion')\n",
    "plt.show()\n",
    "\n",
    "#Male Patient Heights\n",
    "m_alco_counted = m_cd_cardio_data.groupby('alco').count()\n",
    "plt.pie(m_alco_counted['id'], labels = m_alco_counted.index.values, colors = ['blue', 'red'])\n",
    "plt.title('Male Alcohol Use Proportion (w/ CVD)')\n",
    "plt.show()\n",
    "\n",
    "m_nocd_alco_counted = m_no_cd_cardio_data.groupby('alco').count()\n",
    "plt.pie(m_nocd_alco_counted['id'], labels = m_nocd_alco_counted.index.values, colors = ['blue', 'red'])\n",
    "plt.title('Male Alcohol Use Proportion (w/o CVD)')\n",
    "plt.show()\n",
    "\n",
    "m_alco_counted = male_data.groupby('alco').count()\n",
    "plt.pie(m_alco_counted['id'], labels = m_alco_counted.index.values, colors = ['blue', 'red'])\n",
    "plt.title('Male Alcohol Use Proportion')\n",
    "plt.show()"
   ]
  },
  {
   "cell_type": "markdown",
   "id": "555af2db",
   "metadata": {},
   "source": [
    "<p>Here we see that more men than women choose to consume alcohol. The difference in alcohol use between both those with and without cardiovascular disease is not significant. When looking at alcohol intake it is hard to judge it on a binary, especially when people tend to under report their alcohol consumption. The difference between no drinking, a drink or two a week, and binge drinking on the weekends is severe. Future research may consider a scaling option more similar to that used in glucose/cholesterol. </p>\n",
    "<p></p>\n",
    "<b> Physical Activity Level: </b>"
   ]
  },
  {
   "cell_type": "code",
   "execution_count": 27,
   "id": "3f3f92e7",
   "metadata": {},
   "outputs": [
    {
     "data": {
      "image/png": "[encoded data removed]",
      "text/plain": [
       "<Figure size 432x288 with 1 Axes>"
      ]
     },
     "metadata": {},
     "output_type": "display_data"
    },
    {
     "data": {
      "image/png": "[encoded data removed]",
      "text/plain": [
       "<Figure size 432x288 with 1 Axes>"
      ]
     },
     "metadata": {},
     "output_type": "display_data"
    },
    {
     "data": {
      "image/png": "[encoded data removed]",
      "text/plain": [
       "<Figure size 432x288 with 1 Axes>"
      ]
     },
     "metadata": {},
     "output_type": "display_data"
    },
    {
     "data": {
      "image/png": "[encoded data removed]",
      "text/plain": [
       "<Figure size 432x288 with 1 Axes>"
      ]
     },
     "metadata": {},
     "output_type": "display_data"
    },
    {
     "data": {
      "image/png": "[encoded data removed]",
      "text/plain": [
       "<Figure size 432x288 with 1 Axes>"
      ]
     },
     "metadata": {},
     "output_type": "display_data"
    }
   ],
   "source": [
    "# Active Level\n",
    "active_counted = cardio_data.groupby(['active']).count()\n",
    "\n",
    "plt.pie(active_counted['id'], labels = active_counted.index.values)\n",
    "plt.title('Full Data Activity Level Pie')\n",
    "plt.show()\n",
    "\n",
    "#Female Patient Heights\n",
    "f_active_counted = f_cd_cardio_data.groupby('active').count()\n",
    "plt.pie(f_active_counted['id'], labels = f_active_counted.index.values)\n",
    "plt.title('Female Activity Level Pie (w/ C.D.)')\n",
    "plt.show()\n",
    "\n",
    "f_nocd_active_counted = f_no_cd_cardio_data.groupby('active').count()\n",
    "plt.pie(f_nocd_active_counted['id'], labels = f_nocd_active_counted.index.values)\n",
    "plt.title('Female Activity Level Pie (w/o C.D.)')\n",
    "plt.show()\n",
    "\n",
    "#Male Patient Heights\n",
    "m_active_counted = m_cd_cardio_data.groupby('active').count()\n",
    "plt.pie(m_active_counted['id'], labels = m_active_counted.index.values)\n",
    "plt.title('Male Activity Level Pie (w/ C.D.)')\n",
    "plt.show()\n",
    "\n",
    "m_nocd_active_counted = m_no_cd_cardio_data.groupby('active').count()\n",
    "plt.pie(m_nocd_active_counted['id'], labels = m_nocd_active_counted.index.values)\n",
    "plt.title('Male Activity Level Pie (w/o C.D.)')\n",
    "plt.show()"
   ]
  },
  {
   "cell_type": "markdown",
   "id": "055ff2c3",
   "metadata": {},
   "source": [
    "<p> Across the board the rate of patients who consider themselves active is the same across the board. Again, similar to alcohol I would recommend scaling rather than binary data in future research. </p>\n",
    "<p></p>\n",
    "<b> Cardio Disease Presence: </b>"
   ]
  },
  {
   "cell_type": "code",
   "execution_count": 71,
   "id": "df10c99e",
   "metadata": {},
   "outputs": [
    {
     "data": {
      "text/html": [
       "<div>\n",
       "<style scoped>\n",
       "    .dataframe tbody tr th:only-of-type {\n",
       "        vertical-align: middle;\n",
       "    }\n",
       "\n",
       "    .dataframe tbody tr th {\n",
       "        vertical-align: top;\n",
       "    }\n",
       "\n",
       "    .dataframe thead th {\n",
       "        text-align: right;\n",
       "    }\n",
       "</style>\n",
       "<table border=\"1\" class=\"dataframe\">\n",
       "  <thead>\n",
       "    <tr style=\"text-align: right;\">\n",
       "      <th></th>\n",
       "      <th>id</th>\n",
       "      <th>age</th>\n",
       "      <th>height</th>\n",
       "      <th>weight</th>\n",
       "      <th>ap_hi</th>\n",
       "      <th>ap_lo</th>\n",
       "      <th>cholesterol</th>\n",
       "      <th>gluc</th>\n",
       "      <th>smoke</th>\n",
       "      <th>alco</th>\n",
       "      <th>active</th>\n",
       "      <th>cardio</th>\n",
       "      <th>age_group</th>\n",
       "      <th>bmi</th>\n",
       "    </tr>\n",
       "    <tr>\n",
       "      <th>gender</th>\n",
       "      <th></th>\n",
       "      <th></th>\n",
       "      <th></th>\n",
       "      <th></th>\n",
       "      <th></th>\n",
       "      <th></th>\n",
       "      <th></th>\n",
       "      <th></th>\n",
       "      <th></th>\n",
       "      <th></th>\n",
       "      <th></th>\n",
       "      <th></th>\n",
       "      <th></th>\n",
       "      <th></th>\n",
       "    </tr>\n",
       "  </thead>\n",
       "  <tbody>\n",
       "    <tr>\n",
       "      <th>Female</th>\n",
       "      <td>22616</td>\n",
       "      <td>22616</td>\n",
       "      <td>22616</td>\n",
       "      <td>22616</td>\n",
       "      <td>22616</td>\n",
       "      <td>22616</td>\n",
       "      <td>22616</td>\n",
       "      <td>22616</td>\n",
       "      <td>22616</td>\n",
       "      <td>22616</td>\n",
       "      <td>22616</td>\n",
       "      <td>22616</td>\n",
       "      <td>22616</td>\n",
       "      <td>22616</td>\n",
       "    </tr>\n",
       "    <tr>\n",
       "      <th>Male</th>\n",
       "      <td>12363</td>\n",
       "      <td>12363</td>\n",
       "      <td>12363</td>\n",
       "      <td>12363</td>\n",
       "      <td>12363</td>\n",
       "      <td>12363</td>\n",
       "      <td>12363</td>\n",
       "      <td>12363</td>\n",
       "      <td>12363</td>\n",
       "      <td>12363</td>\n",
       "      <td>12363</td>\n",
       "      <td>12363</td>\n",
       "      <td>12363</td>\n",
       "      <td>12363</td>\n",
       "    </tr>\n",
       "  </tbody>\n",
       "</table>\n",
       "</div>"
      ],
      "text/plain": [
       "           id    age  height  weight  ap_hi  ap_lo  cholesterol   gluc  smoke  \\\n",
       "gender                                                                          \n",
       "Female  22616  22616   22616   22616  22616  22616        22616  22616  22616   \n",
       "Male    12363  12363   12363   12363  12363  12363        12363  12363  12363   \n",
       "\n",
       "         alco  active  cardio  age_group    bmi  \n",
       "gender                                           \n",
       "Female  22616   22616   22616      22616  22616  \n",
       "Male    12363   12363   12363      12363  12363  "
      ]
     },
     "execution_count": 71,
     "metadata": {},
     "output_type": "execute_result"
    }
   ],
   "source": [
    "# general cardio disease stuff\n",
    "cd_cardio_data.groupby('gender').count()\n",
    "# cd_cardio_data.describe()"
   ]
  },
  {
   "cell_type": "markdown",
   "id": "0e079be2",
   "metadata": {},
   "source": [
    "<p>Our data is roughly split evenly between those with and without cardiovascular disease.</p> <p> </p>\n",
    "\n",
    "### Further Investigation</br>\n",
    "\n",
    "<p>Now that I have a better look at our data I have a few questions about the relationships. </p>\n",
    "<b>Question 1:</b>\n",
    "<p>Looking at the relationship between cardiovascular disease and blood pressure I was interested in looking at a possible mediating factor. Consistent cardio activity can be helpful in lowering/maintaining your blood pressure. I wanted to see what the relationship of activity level is with blood pressure across those with and without cardiovascular disease.</p>"
   ]
  },
  {
   "cell_type": "code",
   "execution_count": 33,
   "id": "dd219d69",
   "metadata": {},
   "outputs": [
    {
     "data": {
      "text/html": [
       "<div>\n",
       "<style scoped>\n",
       "    .dataframe tbody tr th:only-of-type {\n",
       "        vertical-align: middle;\n",
       "    }\n",
       "\n",
       "    .dataframe tbody tr th {\n",
       "        vertical-align: top;\n",
       "    }\n",
       "\n",
       "    .dataframe thead th {\n",
       "        text-align: right;\n",
       "    }\n",
       "</style>\n",
       "<table border=\"1\" class=\"dataframe\">\n",
       "  <thead>\n",
       "    <tr style=\"text-align: right;\">\n",
       "      <th></th>\n",
       "      <th>id</th>\n",
       "      <th>age</th>\n",
       "      <th>height</th>\n",
       "      <th>weight</th>\n",
       "      <th>ap_hi</th>\n",
       "      <th>ap_lo</th>\n",
       "      <th>cholesterol</th>\n",
       "      <th>gluc</th>\n",
       "      <th>bmi</th>\n",
       "    </tr>\n",
       "    <tr>\n",
       "      <th>active</th>\n",
       "      <th></th>\n",
       "      <th></th>\n",
       "      <th></th>\n",
       "      <th></th>\n",
       "      <th></th>\n",
       "      <th></th>\n",
       "      <th></th>\n",
       "      <th></th>\n",
       "      <th></th>\n",
       "    </tr>\n",
       "  </thead>\n",
       "  <tbody>\n",
       "    <tr>\n",
       "      <th>False</th>\n",
       "      <td>49806.996875</td>\n",
       "      <td>54.536476</td>\n",
       "      <td>164.466105</td>\n",
       "      <td>77.192854</td>\n",
       "      <td>135.130689</td>\n",
       "      <td>101.526015</td>\n",
       "      <td>1.465833</td>\n",
       "      <td>1.274827</td>\n",
       "      <td>28.645728</td>\n",
       "    </tr>\n",
       "    <tr>\n",
       "      <th>True</th>\n",
       "      <td>50155.425809</td>\n",
       "      <td>54.429502</td>\n",
       "      <td>164.218155</td>\n",
       "      <td>76.723622</td>\n",
       "      <td>137.766783</td>\n",
       "      <td>111.022341</td>\n",
       "      <td>1.531139</td>\n",
       "      <td>1.278333</td>\n",
       "      <td>28.544827</td>\n",
       "    </tr>\n",
       "  </tbody>\n",
       "</table>\n",
       "</div>"
      ],
      "text/plain": [
       "                  id        age      height     weight       ap_hi  \\\n",
       "active                                                               \n",
       "False   49806.996875  54.536476  164.466105  77.192854  135.130689   \n",
       "True    50155.425809  54.429502  164.218155  76.723622  137.766783   \n",
       "\n",
       "             ap_lo  cholesterol      gluc        bmi  \n",
       "active                                                \n",
       "False   101.526015     1.465833  1.274827  28.645728  \n",
       "True    111.022341     1.531139  1.278333  28.544827  "
      ]
     },
     "execution_count": 33,
     "metadata": {},
     "output_type": "execute_result"
    }
   ],
   "source": [
    "#Group by active, then look at mean of ap hi repeat for ap lo\n",
    "q_1 = cardio_data.groupby(['active']).mean()\n",
    "q_1.head()\n",
    "#For the entirety of the data the difference between ap_hi across activities is negligable (F128.82 vs T128.81)\n",
    "#For the entirety of the data the difference between ap_lo across activities is greater (F94.81 vs T97.08)\n",
    "\n",
    "# Looking at no cd\n",
    "q_1_nocd = cardio_data[cardio_data['cardio']=='False'].groupby(['active']).mean()\n",
    "q_1_nocd.head()\n",
    "#For those without cd the difference between ap_hi across activities is F121.55 vs T120.18, with overall average 120.43\n",
    "#For those without cd the difference between ap_lo across activities is F87.05 vs T83.63,  with overall average 84.25\n",
    "\n",
    "# Looking at w cd\n",
    "q_1_cd = cardio_data[cardio_data['cardio']=='True'].groupby(['active']).mean()\n",
    "q_1_cd.head()\n",
    "#For those with cd the difference between ap_hi across activities is F135.13 vs T137.77, with overall average 137.21\n",
    "#For those with cd the difference between ap_lo across activities is F101.53 vs T111.02,  with overall average 109.02\n"
   ]
  },
  {
   "cell_type": "markdown",
   "id": "869d415d",
   "metadata": {},
   "source": [
    "<p>In the group of those with cardiovascular disease, those who report exercising have higher blood pressures than those who do not. In comparison in the group of those without cardiovascular disease, those who report exercising have lower blood pressure than those who do not. This is such an interesting diversion that I again wonder if we had a more refined measure than binary \"yes, I work out\" or \"no, I don't work out\", we may be able to see broader trends in how much or what kind of exercise correlates with blood pressure.</p>\n",
    "<b>Question 2:</b>\n",
    "<p>Our glucose levels are related to several bodily processes, one of which is metabolism. What is the relationship between glucose levels and weight(bmi)?</p>"
   ]
  },
  {
   "cell_type": "code",
   "execution_count": 39,
   "id": "e5f9943f",
   "metadata": {},
   "outputs": [
    {
     "data": {
      "text/html": [
       "<div>\n",
       "<style scoped>\n",
       "    .dataframe tbody tr th:only-of-type {\n",
       "        vertical-align: middle;\n",
       "    }\n",
       "\n",
       "    .dataframe tbody tr th {\n",
       "        vertical-align: top;\n",
       "    }\n",
       "\n",
       "    .dataframe thead th {\n",
       "        text-align: right;\n",
       "    }\n",
       "</style>\n",
       "<table border=\"1\" class=\"dataframe\">\n",
       "  <thead>\n",
       "    <tr style=\"text-align: right;\">\n",
       "      <th></th>\n",
       "      <th>id</th>\n",
       "      <th>age</th>\n",
       "      <th>height</th>\n",
       "      <th>weight</th>\n",
       "      <th>ap_hi</th>\n",
       "      <th>ap_lo</th>\n",
       "      <th>cholesterol</th>\n",
       "      <th>gluc</th>\n",
       "      <th>bmi</th>\n",
       "    </tr>\n",
       "  </thead>\n",
       "  <tbody>\n",
       "    <tr>\n",
       "      <th>count</th>\n",
       "      <td>2015.000000</td>\n",
       "      <td>2015.000000</td>\n",
       "      <td>2015.000000</td>\n",
       "      <td>2015.000000</td>\n",
       "      <td>2015.000000</td>\n",
       "      <td>2015.000000</td>\n",
       "      <td>2015.000000</td>\n",
       "      <td>2015.0</td>\n",
       "      <td>2015.000000</td>\n",
       "    </tr>\n",
       "    <tr>\n",
       "      <th>mean</th>\n",
       "      <td>49791.579156</td>\n",
       "      <td>53.736476</td>\n",
       "      <td>164.681886</td>\n",
       "      <td>75.306352</td>\n",
       "      <td>123.988586</td>\n",
       "      <td>88.796030</td>\n",
       "      <td>2.134491</td>\n",
       "      <td>3.0</td>\n",
       "      <td>27.794335</td>\n",
       "    </tr>\n",
       "    <tr>\n",
       "      <th>std</th>\n",
       "      <td>28475.934670</td>\n",
       "      <td>6.355610</td>\n",
       "      <td>7.805769</td>\n",
       "      <td>15.244534</td>\n",
       "      <td>16.107428</td>\n",
       "      <td>191.791415</td>\n",
       "      <td>0.952328</td>\n",
       "      <td>0.0</td>\n",
       "      <td>5.537511</td>\n",
       "    </tr>\n",
       "    <tr>\n",
       "      <th>min</th>\n",
       "      <td>27.000000</td>\n",
       "      <td>39.000000</td>\n",
       "      <td>105.000000</td>\n",
       "      <td>37.000000</td>\n",
       "      <td>11.000000</td>\n",
       "      <td>40.000000</td>\n",
       "      <td>1.000000</td>\n",
       "      <td>3.0</td>\n",
       "      <td>16.184437</td>\n",
       "    </tr>\n",
       "    <tr>\n",
       "      <th>25%</th>\n",
       "      <td>25469.000000</td>\n",
       "      <td>50.000000</td>\n",
       "      <td>160.000000</td>\n",
       "      <td>65.000000</td>\n",
       "      <td>120.000000</td>\n",
       "      <td>80.000000</td>\n",
       "      <td>1.000000</td>\n",
       "      <td>3.0</td>\n",
       "      <td>23.875115</td>\n",
       "    </tr>\n",
       "    <tr>\n",
       "      <th>50%</th>\n",
       "      <td>49473.000000</td>\n",
       "      <td>55.000000</td>\n",
       "      <td>165.000000</td>\n",
       "      <td>72.000000</td>\n",
       "      <td>120.000000</td>\n",
       "      <td>80.000000</td>\n",
       "      <td>3.000000</td>\n",
       "      <td>3.0</td>\n",
       "      <td>26.564345</td>\n",
       "    </tr>\n",
       "    <tr>\n",
       "      <th>75%</th>\n",
       "      <td>73526.500000</td>\n",
       "      <td>59.000000</td>\n",
       "      <td>170.000000</td>\n",
       "      <td>84.000000</td>\n",
       "      <td>130.000000</td>\n",
       "      <td>80.000000</td>\n",
       "      <td>3.000000</td>\n",
       "      <td>3.0</td>\n",
       "      <td>30.689868</td>\n",
       "    </tr>\n",
       "    <tr>\n",
       "      <th>max</th>\n",
       "      <td>99940.000000</td>\n",
       "      <td>64.000000</td>\n",
       "      <td>192.000000</td>\n",
       "      <td>164.000000</td>\n",
       "      <td>220.000000</td>\n",
       "      <td>8200.000000</td>\n",
       "      <td>3.000000</td>\n",
       "      <td>3.0</td>\n",
       "      <td>65.306122</td>\n",
       "    </tr>\n",
       "  </tbody>\n",
       "</table>\n",
       "</div>"
      ],
      "text/plain": [
       "                 id          age       height       weight        ap_hi  \\\n",
       "count   2015.000000  2015.000000  2015.000000  2015.000000  2015.000000   \n",
       "mean   49791.579156    53.736476   164.681886    75.306352   123.988586   \n",
       "std    28475.934670     6.355610     7.805769    15.244534    16.107428   \n",
       "min       27.000000    39.000000   105.000000    37.000000    11.000000   \n",
       "25%    25469.000000    50.000000   160.000000    65.000000   120.000000   \n",
       "50%    49473.000000    55.000000   165.000000    72.000000   120.000000   \n",
       "75%    73526.500000    59.000000   170.000000    84.000000   130.000000   \n",
       "max    99940.000000    64.000000   192.000000   164.000000   220.000000   \n",
       "\n",
       "             ap_lo  cholesterol    gluc          bmi  \n",
       "count  2015.000000  2015.000000  2015.0  2015.000000  \n",
       "mean     88.796030     2.134491     3.0    27.794335  \n",
       "std     191.791415     0.952328     0.0     5.537511  \n",
       "min      40.000000     1.000000     3.0    16.184437  \n",
       "25%      80.000000     1.000000     3.0    23.875115  \n",
       "50%      80.000000     3.000000     3.0    26.564345  \n",
       "75%      80.000000     3.000000     3.0    30.689868  \n",
       "max    8200.000000     3.000000     3.0    65.306122  "
      ]
     },
     "execution_count": 39,
     "metadata": {},
     "output_type": "execute_result"
    }
   ],
   "source": [
    "# group by glucose then look at the weight \n",
    "\n",
    "gluc1 = cardio_data[cardio_data['gluc']== 1]\n",
    "gluc2 = cardio_data[cardio_data['gluc']== 2]\n",
    "gluc3 = cardio_data[cardio_data['gluc']== 3]\n",
    "\n",
    "gluc1_c = gluc1[gluc1['cardio'] == 'True']\n",
    "# Mean weight = 76.08 and bmi = 28.26\n",
    "gluc1_nc = gluc1[gluc1['cardio'] == 'False']\n",
    "# Mean weight = 71.06 and bmi = 26.35\n",
    "\n",
    "gluc2_c = gluc2[gluc2['cardio'] == 'True']\n",
    "# Mean weight = 81.29 and bmi = 30.26\n",
    "gluc2_nc = gluc2[gluc2['cardio'] == 'False']\n",
    "# mean weight = 75.77 and bmi = 28.22\n",
    "\n",
    "gluc3_c = gluc3[gluc3['cardio'] == 'True']\n",
    "# mean weight = 79.04 and bmi = 29.67\n",
    "gluc3_nc = gluc3[gluc3['cardio'] == 'False']\n",
    "# Mean weight = 75.31 and bmi = 27.79\n",
    "\n",
    "# gluc3_nc.describe()"
   ]
  },
  {
   "cell_type": "markdown",
   "id": "b60117d7",
   "metadata": {},
   "source": [
    "<p>BMI is an imperfect measure, it doesn't take into consideration body make up and lifestyle, but again while working with the measurements we have available it is interesting to see correlations. On average the weight of those without a cardiovascular disease is lower than those with, and elevated glucose levels also correlates with higher average weight regardless of cardiovascular disease presence.</p>\n",
    "<b>Question 3:</b>\n",
    "<p>When looking at behavioral choices that can affect cardiovascular health, two major factors are activity level and the decision to smoke. I wanted to see what that relationship looks like, both if people who are active choose to smoke and vice versa and the impact of those decisions on the correlation to cardiovascular disease.</p>"
   ]
  },
  {
   "cell_type": "code",
   "execution_count": 73,
   "id": "f0e739b5",
   "metadata": {},
   "outputs": [
    {
     "data": {
      "text/html": [
       "<div>\n",
       "<style scoped>\n",
       "    .dataframe tbody tr th:only-of-type {\n",
       "        vertical-align: middle;\n",
       "    }\n",
       "\n",
       "    .dataframe tbody tr th {\n",
       "        vertical-align: top;\n",
       "    }\n",
       "\n",
       "    .dataframe thead th {\n",
       "        text-align: right;\n",
       "    }\n",
       "</style>\n",
       "<table border=\"1\" class=\"dataframe\">\n",
       "  <thead>\n",
       "    <tr style=\"text-align: right;\">\n",
       "      <th></th>\n",
       "      <th>id</th>\n",
       "      <th>age</th>\n",
       "      <th>gender</th>\n",
       "      <th>height</th>\n",
       "      <th>weight</th>\n",
       "      <th>ap_hi</th>\n",
       "      <th>ap_lo</th>\n",
       "      <th>cholesterol</th>\n",
       "      <th>gluc</th>\n",
       "      <th>smoke</th>\n",
       "      <th>alco</th>\n",
       "      <th>active</th>\n",
       "      <th>age_group</th>\n",
       "      <th>bmi</th>\n",
       "    </tr>\n",
       "    <tr>\n",
       "      <th>cardio</th>\n",
       "      <th></th>\n",
       "      <th></th>\n",
       "      <th></th>\n",
       "      <th></th>\n",
       "      <th></th>\n",
       "      <th></th>\n",
       "      <th></th>\n",
       "      <th></th>\n",
       "      <th></th>\n",
       "      <th></th>\n",
       "      <th></th>\n",
       "      <th></th>\n",
       "      <th></th>\n",
       "      <th></th>\n",
       "    </tr>\n",
       "  </thead>\n",
       "  <tbody>\n",
       "    <tr>\n",
       "      <th>False</th>\n",
       "      <td>25852</td>\n",
       "      <td>25852</td>\n",
       "      <td>25852</td>\n",
       "      <td>25852</td>\n",
       "      <td>25852</td>\n",
       "      <td>25852</td>\n",
       "      <td>25852</td>\n",
       "      <td>25852</td>\n",
       "      <td>25852</td>\n",
       "      <td>25852</td>\n",
       "      <td>25852</td>\n",
       "      <td>25852</td>\n",
       "      <td>25852</td>\n",
       "      <td>25852</td>\n",
       "    </tr>\n",
       "    <tr>\n",
       "      <th>True</th>\n",
       "      <td>25247</td>\n",
       "      <td>25247</td>\n",
       "      <td>25247</td>\n",
       "      <td>25247</td>\n",
       "      <td>25247</td>\n",
       "      <td>25247</td>\n",
       "      <td>25247</td>\n",
       "      <td>25247</td>\n",
       "      <td>25247</td>\n",
       "      <td>25247</td>\n",
       "      <td>25247</td>\n",
       "      <td>25247</td>\n",
       "      <td>25247</td>\n",
       "      <td>25247</td>\n",
       "    </tr>\n",
       "  </tbody>\n",
       "</table>\n",
       "</div>"
      ],
      "text/plain": [
       "           id    age  gender  height  weight  ap_hi  ap_lo  cholesterol  \\\n",
       "cardio                                                                    \n",
       "False   25852  25852   25852   25852   25852  25852  25852        25852   \n",
       "True    25247  25247   25247   25247   25247  25247  25247        25247   \n",
       "\n",
       "         gluc  smoke   alco  active  age_group    bmi  \n",
       "cardio                                                 \n",
       "False   25852  25852  25852   25852      25852  25852  \n",
       "True    25247  25247  25247   25247      25247  25247  "
      ]
     },
     "execution_count": 73,
     "metadata": {},
     "output_type": "execute_result"
    }
   ],
   "source": [
    "smoke = cardio_data[cardio_data['smoke']== 'True']\n",
    "nsmoke = cardio_data[cardio_data['smoke']== 'False']\n",
    "\n",
    "smoke.groupby('active').count()\n",
    "# for smokers active: 5162, non-active: 1007\n",
    "\n",
    "nsmoke.groupby('active').count()\n",
    "# for non smokers active: 51099, non-active: 12732\n",
    "\n",
    "smoke_a = smoke[smoke['active'] == 'True'].groupby('cardio').count()\n",
    "# For active smokers cardio True: 2371, False 2791\n",
    "smoke_na = smoke[smoke['active'] == 'False'].groupby('cardio').count()\n",
    "# For non-active smokers cardio True: 558, False 449\n",
    "\n",
    "nsmoke_a = nsmoke[nsmoke['active'] == 'True'].groupby('cardio').count()\n",
    "# For active non-smokers cardio True: 25247, False 25852\n",
    "nsmoke_na = nsmoke[nsmoke['active'] == 'False'].groupby('cardio').count()\n",
    "# For non-active non-smokers cardio True: 6803, False 5929\n",
    "\n",
    "# nsmoke_a"
   ]
  },
  {
   "cell_type": "markdown",
   "id": "55af2562",
   "metadata": {},
   "source": [
    "<p>The first query was interesting to see, the ratio of active to non-active patients was very similar across smokers and non-smokers, roughly 5:1. These decisions appear to not have a strong effect on each other. When looking at these combination of binary decision markers on the presence of cardiovascular disease we see a similar lack of strong correlations. </p>\n",
    "<b>Question 4:</b>\n",
    "<p>A combination I did not consider above was that of age and gender, so is there any difference between the age spread for male and female patients with and without cardiovascular disease. </p>"
   ]
  },
  {
   "cell_type": "code",
   "execution_count": 72,
   "id": "e4f08198",
   "metadata": {
    "scrolled": true
   },
   "outputs": [
    {
     "data": {
      "image/png": "[encoded data removed]",
      "text/plain": [
       "<Figure size 432x288 with 1 Axes>"
      ]
     },
     "metadata": {
      "needs_background": "light"
     },
     "output_type": "display_data"
    },
    {
     "data": {
      "image/png": "[encoded data removed]",
      "text/plain": [
       "<Figure size 432x288 with 1 Axes>"
      ]
     },
     "metadata": {
      "needs_background": "light"
     },
     "output_type": "display_data"
    },
    {
     "data": {
      "image/png": "[encoded data removed]",
      "text/plain": [
       "<Figure size 432x288 with 1 Axes>"
      ]
     },
     "metadata": {
      "needs_background": "light"
     },
     "output_type": "display_data"
    },
    {
     "data": {
      "image/png": "[encoded data removed]",
      "text/plain": [
       "<Figure size 432x288 with 1 Axes>"
      ]
     },
     "metadata": {
      "needs_background": "light"
     },
     "output_type": "display_data"
    }
   ],
   "source": [
    "plt.hist(f_cd_cardio_data['age'], bins = 25, color = 'red')\n",
    "plt.title('Female Patients Age (w/ C.D.)')\n",
    "plt.show()\n",
    "\n",
    "plt.hist(f_no_cd_cardio_data['age'], bins = 25, color = 'red')\n",
    "plt.title('Female Patients Age (w/o C.D.)')\n",
    "plt.show()\n",
    "\n",
    "plt.hist(m_cd_cardio_data['age'], bins = 25, color = 'blue')\n",
    "plt.title('Male Patients Age (w/ C.D.)')\n",
    "plt.show()\n",
    "\n",
    "plt.hist(m_no_cd_cardio_data['age'], bins = 25, color = 'blue')\n",
    "plt.title('Male Patients Age (w/o C.D.)')\n",
    "plt.show()\n",
    "\n",
    "# m_no_cd_cardio_data.describe()"
   ]
  },
  {
   "cell_type": "markdown",
   "id": "6096b713",
   "metadata": {},
   "source": [
    "<p>The average age of women with cardiovascular disease is 54.66, and without is 51.27. For men the average age of those with cardiovascular disease is 54.07, and without is 51.16. Cardiovascular disease patients tend to be older than those without, regardless of age.  </p>\n",
    "<b>Question 5:</b>\n",
    "<p>Again looking at the relationship between a behavior and measurable data. This time looking to see if cholesterol and active lifestyle have a relationship to each other and in combination to cardiovascular disease. </p>"
   ]
  },
  {
   "cell_type": "code",
   "execution_count": 86,
   "id": "aebde4b0",
   "metadata": {},
   "outputs": [
    {
     "data": {
      "text/html": [
       "<div>\n",
       "<style scoped>\n",
       "    .dataframe tbody tr th:only-of-type {\n",
       "        vertical-align: middle;\n",
       "    }\n",
       "\n",
       "    .dataframe tbody tr th {\n",
       "        vertical-align: top;\n",
       "    }\n",
       "\n",
       "    .dataframe thead th {\n",
       "        text-align: right;\n",
       "    }\n",
       "</style>\n",
       "<table border=\"1\" class=\"dataframe\">\n",
       "  <thead>\n",
       "    <tr style=\"text-align: right;\">\n",
       "      <th></th>\n",
       "      <th>id</th>\n",
       "      <th>age</th>\n",
       "      <th>gender</th>\n",
       "      <th>height</th>\n",
       "      <th>weight</th>\n",
       "      <th>ap_hi</th>\n",
       "      <th>ap_lo</th>\n",
       "      <th>cholesterol</th>\n",
       "      <th>gluc</th>\n",
       "      <th>smoke</th>\n",
       "      <th>alco</th>\n",
       "      <th>active</th>\n",
       "      <th>age_group</th>\n",
       "      <th>bmi</th>\n",
       "    </tr>\n",
       "    <tr>\n",
       "      <th>cardio</th>\n",
       "      <th></th>\n",
       "      <th></th>\n",
       "      <th></th>\n",
       "      <th></th>\n",
       "      <th></th>\n",
       "      <th></th>\n",
       "      <th></th>\n",
       "      <th></th>\n",
       "      <th></th>\n",
       "      <th></th>\n",
       "      <th></th>\n",
       "      <th></th>\n",
       "      <th></th>\n",
       "      <th></th>\n",
       "    </tr>\n",
       "  </thead>\n",
       "  <tbody>\n",
       "    <tr>\n",
       "      <th>False</th>\n",
       "      <td>3111</td>\n",
       "      <td>3111</td>\n",
       "      <td>3111</td>\n",
       "      <td>3111</td>\n",
       "      <td>3111</td>\n",
       "      <td>3111</td>\n",
       "      <td>3111</td>\n",
       "      <td>3111</td>\n",
       "      <td>3111</td>\n",
       "      <td>3111</td>\n",
       "      <td>3111</td>\n",
       "      <td>3111</td>\n",
       "      <td>3111</td>\n",
       "      <td>3111</td>\n",
       "    </tr>\n",
       "    <tr>\n",
       "      <th>True</th>\n",
       "      <td>4519</td>\n",
       "      <td>4519</td>\n",
       "      <td>4519</td>\n",
       "      <td>4519</td>\n",
       "      <td>4519</td>\n",
       "      <td>4519</td>\n",
       "      <td>4519</td>\n",
       "      <td>4519</td>\n",
       "      <td>4519</td>\n",
       "      <td>4519</td>\n",
       "      <td>4519</td>\n",
       "      <td>4519</td>\n",
       "      <td>4519</td>\n",
       "      <td>4519</td>\n",
       "    </tr>\n",
       "  </tbody>\n",
       "</table>\n",
       "</div>"
      ],
      "text/plain": [
       "          id   age  gender  height  weight  ap_hi  ap_lo  cholesterol  gluc  \\\n",
       "cardio                                                                        \n",
       "False   3111  3111    3111    3111    3111   3111   3111         3111  3111   \n",
       "True    4519  4519    4519    4519    4519   4519   4519         4519  4519   \n",
       "\n",
       "        smoke  alco  active  age_group   bmi  \n",
       "cardio                                        \n",
       "False    3111  3111    3111       3111  3111  \n",
       "True     4519  4519    4519       4519  4519  "
      ]
     },
     "execution_count": 86,
     "metadata": {},
     "output_type": "execute_result"
    }
   ],
   "source": [
    "chol1 = cardio_data[cardio_data['cholesterol']== 1]\n",
    "chol2 = cardio_data[cardio_data['cholesterol']== 2]\n",
    "chol3 = cardio_data[cardio_data['cholesterol']== 3]\n",
    "\n",
    "chol1_a = chol1[chol1['active'] == 'True'].groupby('cardio').count()\n",
    "# Those w normal cholesterol who are active: t - 18024, f - 24008\n",
    "chol1_na = chol1[chol1['active'] == 'False'].groupby('cardio').count()\n",
    "# Those w normal cholesterol who are not active: t - 5031, f - 5322\n",
    "\n",
    "chol2_a = chol2[chol2['active'] == 'True'].groupby('cardio').count()\n",
    "# Those w above normal cholesterol who are active: t - 4519, f - 3111\n",
    "chol2_na = chol2[chol2['active'] == 'False'].groupby('cardio').count()\n",
    "# Those w above normal cholesterol who are not active: t - 1231, f - 688\n",
    "\n",
    "chol3_a = chol3[chol3['active'] == 'True'].groupby('cardio').count()\n",
    "# Those w well above normal cholesterol who are active: t - 5075, f - 1524\n",
    "chol3_na = chol3[chol3['active'] == 'False'].groupby('cardio').count()\n",
    "# Those w well above normal cholesterol who are not active: t - 1059, f - 368\n",
    "\n",
    "chol2_a"
   ]
  },
  {
   "cell_type": "markdown",
   "id": "a3f0239f",
   "metadata": {},
   "source": [
    "<p>For those with normal cholesterol levels, those who are active are less likely to have cardiovascular disease, while those who are not show equal rates of disease presence. In the group of those with above normal cholesterol, regardless of activity level these patients are more likely to have cardiovascular disease. Lastly in the group of well above normal cholestrol, again regardless of activity these patients are more likely to have cardiovascular disease but this time at a rate of 3 with to 1 without. Further research on the causal relationship here may be revealing. </p>\n",
    "<b>Question 6:</b>\n",
    "<p>The last behavioral to observable relationship I wanted to investigate was alcohol to cholesterol. </p>"
   ]
  },
  {
   "cell_type": "code",
   "execution_count": 47,
   "id": "97eff0fa",
   "metadata": {
    "scrolled": true
   },
   "outputs": [
    {
     "data": {
      "image/png": "[encoded data removed]",
      "text/plain": [
       "<Figure size 432x288 with 1 Axes>"
      ]
     },
     "metadata": {
      "needs_background": "light"
     },
     "output_type": "display_data"
    },
    {
     "data": {
      "image/png": "[encoded data removed]",
      "text/plain": [
       "<Figure size 432x288 with 1 Axes>"
      ]
     },
     "metadata": {
      "needs_background": "light"
     },
     "output_type": "display_data"
    },
    {
     "data": {
      "text/html": [
       "<div>\n",
       "<style scoped>\n",
       "    .dataframe tbody tr th:only-of-type {\n",
       "        vertical-align: middle;\n",
       "    }\n",
       "\n",
       "    .dataframe tbody tr th {\n",
       "        vertical-align: top;\n",
       "    }\n",
       "\n",
       "    .dataframe thead th {\n",
       "        text-align: right;\n",
       "    }\n",
       "</style>\n",
       "<table border=\"1\" class=\"dataframe\">\n",
       "  <thead>\n",
       "    <tr style=\"text-align: right;\">\n",
       "      <th></th>\n",
       "      <th>id</th>\n",
       "      <th>age</th>\n",
       "      <th>gender</th>\n",
       "      <th>height</th>\n",
       "      <th>weight</th>\n",
       "      <th>ap_hi</th>\n",
       "      <th>ap_lo</th>\n",
       "      <th>gluc</th>\n",
       "      <th>smoke</th>\n",
       "      <th>alco</th>\n",
       "      <th>active</th>\n",
       "      <th>cardio</th>\n",
       "      <th>age_group</th>\n",
       "      <th>bmi</th>\n",
       "    </tr>\n",
       "    <tr>\n",
       "      <th>cholesterol</th>\n",
       "      <th></th>\n",
       "      <th></th>\n",
       "      <th></th>\n",
       "      <th></th>\n",
       "      <th></th>\n",
       "      <th></th>\n",
       "      <th></th>\n",
       "      <th></th>\n",
       "      <th></th>\n",
       "      <th></th>\n",
       "      <th></th>\n",
       "      <th></th>\n",
       "      <th></th>\n",
       "      <th></th>\n",
       "    </tr>\n",
       "  </thead>\n",
       "  <tbody>\n",
       "    <tr>\n",
       "      <th>1</th>\n",
       "      <td>2518</td>\n",
       "      <td>2518</td>\n",
       "      <td>2518</td>\n",
       "      <td>2518</td>\n",
       "      <td>2518</td>\n",
       "      <td>2518</td>\n",
       "      <td>2518</td>\n",
       "      <td>2518</td>\n",
       "      <td>2518</td>\n",
       "      <td>2518</td>\n",
       "      <td>2518</td>\n",
       "      <td>2518</td>\n",
       "      <td>2518</td>\n",
       "      <td>2518</td>\n",
       "    </tr>\n",
       "    <tr>\n",
       "      <th>2</th>\n",
       "      <td>727</td>\n",
       "      <td>727</td>\n",
       "      <td>727</td>\n",
       "      <td>727</td>\n",
       "      <td>727</td>\n",
       "      <td>727</td>\n",
       "      <td>727</td>\n",
       "      <td>727</td>\n",
       "      <td>727</td>\n",
       "      <td>727</td>\n",
       "      <td>727</td>\n",
       "      <td>727</td>\n",
       "      <td>727</td>\n",
       "      <td>727</td>\n",
       "    </tr>\n",
       "    <tr>\n",
       "      <th>3</th>\n",
       "      <td>519</td>\n",
       "      <td>519</td>\n",
       "      <td>519</td>\n",
       "      <td>519</td>\n",
       "      <td>519</td>\n",
       "      <td>519</td>\n",
       "      <td>519</td>\n",
       "      <td>519</td>\n",
       "      <td>519</td>\n",
       "      <td>519</td>\n",
       "      <td>519</td>\n",
       "      <td>519</td>\n",
       "      <td>519</td>\n",
       "      <td>519</td>\n",
       "    </tr>\n",
       "  </tbody>\n",
       "</table>\n",
       "</div>"
      ],
      "text/plain": [
       "               id   age  gender  height  weight  ap_hi  ap_lo  gluc  smoke  \\\n",
       "cholesterol                                                                  \n",
       "1            2518  2518    2518    2518    2518   2518   2518  2518   2518   \n",
       "2             727   727     727     727     727    727    727   727    727   \n",
       "3             519   519     519     519     519    519    519   519    519   \n",
       "\n",
       "             alco  active  cardio  age_group   bmi  \n",
       "cholesterol                                         \n",
       "1            2518    2518    2518       2518  2518  \n",
       "2             727     727     727        727   727  \n",
       "3             519     519     519        519   519  "
      ]
     },
     "execution_count": 47,
     "metadata": {},
     "output_type": "execute_result"
    }
   ],
   "source": [
    "alco_use = cardio_data[cardio_data['alco']== 'True']\n",
    "no_alco_use = cardio_data[cardio_data['alco'] == 'False']\n",
    "\n",
    "ac_counts = alco_use.groupby('cholesterol').count()\n",
    "# in patients who use alcohol:\n",
    "# 2518 have normal cholesterol, 727 have above normal cholesterol, 519 have well above normal\n",
    "plt.bar(ac_counts.index.values, ac_counts['id'], color = 'blue')\n",
    "plt.title('Patients Who Report Alcohol Use v. Cholesterol Levels')\n",
    "plt.show()\n",
    "\n",
    "nac_counts = no_alco_use.groupby('cholesterol').count()\n",
    "# in patients who do not use alcohol:\n",
    "# 49867 have normal cholesterol, 8822 have above normal cholesterol, 7547 have well above normal\n",
    "plt.bar(nac_counts.index.values, nac_counts['id'], color = 'Green')\n",
    "plt.title('Patients Who Report No Alcohol Use v. Cholesterol Levels')\n",
    "plt.show()\n",
    "\n",
    "ac_counts"
   ]
  },
  {
   "cell_type": "markdown",
   "id": "4ffa7d7a",
   "metadata": {},
   "source": [
    "<p>In those the patients that reported not drinking 75% have normal levels, 13% have above normal, and 11% have well above normal cholesterol. In those patients that reported drinking 67% have normal levels, 19% have above normal levels, and 14% have well above normal cholesterol. The overall trend is that those who abstain from drinking have higher rates of more normal cholesterol. </p>\n",
    "\n",
    "### Conclusion <br>\n",
    "<p>Looking into health care data is important for understanding the societal level of disease. Overall we see that cardiovascular disease has strongest correlations with cholesterol and blood pressure, both of which are impacted by behavioral and demographic factors. As we continue to look at this kind of patient data we need to keep in mind that we do not have causal information as well as keeping a keen eye on how we can improve our measurements for further research.</p>"
   ]
  },
  {
   "cell_type": "code",
   "execution_count": 56,
   "id": "91395977",
   "metadata": {},
   "outputs": [],
   "source": [
    "cardio_data.to_csv('edited_cardio_train.csv')"
   ]
  },
  {
   "cell_type": "markdown",
   "id": "869b4115",
   "metadata": {},
   "source": [
    "<p> Data Source: https://www.kaggle.com/datasets/sulianova/cardiovascular-disease-dataset </p>\n",
    "\n",
    "<p> CVD research sources </p>\n",
    "<p> https://www.heart.org/en/health-topics/high-blood-pressure/understanding-blood-pressure-readings </p>\n",
    "<p> https://www.who.int/news-room/fact-sheets/detail/cardiovascular-diseases-(cvds) </p>\n",
    "<p> https://www.ncbi.nlm.nih.gov/pmc/articles/PMC3825015/ </p>"
   ]
  }
 ],
 "metadata": {
  "kernelspec": {
   "display_name": "Python 3 (ipykernel)",
   "language": "python",
   "name": "python3"
  },
  "language_info": {
   "codemirror_mode": {
    "name": "ipython",
    "version": 3
   },
   "file_extension": ".py",
   "mimetype": "text/x-python",
   "name": "python",
   "nbconvert_exporter": "python",
   "pygments_lexer": "ipython3",
   "version": "3.9.12"
  }
 },
 "nbformat": 4,
 "nbformat_minor": 5
}
